{
 "cells": [
  {
   "cell_type": "markdown",
   "metadata": {},
   "source": [
    "# Run First"
   ]
  },
  {
   "cell_type": "code",
   "execution_count": 1,
   "metadata": {},
   "outputs": [],
   "source": [
    "from IPython.display import Markdown\n",
    "\n",
    "def display_md(content):\n",
    "  display(Markdown(content))"
   ]
  },
  {
   "cell_type": "markdown",
   "metadata": {},
   "source": [
    "# Generators and generators.py\n",
    "Now that you've retrieved the context needed for your query, the only step left is to prompt your LLM with the retrieved context appropriately. In a production setting, you may spend some time optimizing your prompt with techniques like Chain of Thought or using prompt compilation with DSPy. Generally, the better the inference performance you are trying to get out of a smaller model, the more optimization you will have to do to achieve acceptable performance.\n",
    "\n",
    "The following cheat code should work if you're run your indexer:"
   ]
  },
  {
   "cell_type": "code",
   "execution_count": 2,
   "metadata": {},
   "outputs": [
    {
     "data": {
      "text/markdown": [
       "Naive RAG is the earliest methodology in the RAG research paradigm, following a traditional process of indexing, retrieval, and generation. Advanced RAG and Modular RAG were developed to address specific shortcomings in Naive RAG by offering more adaptability and flexibility through module substitution and reconfiguration. Advanced RAG enhances the retrieval process by incorporating new modules and adjusting interaction flows, improving task performance and relevance of retrieved information."
      ],
      "text/plain": [
       "<IPython.core.display.Markdown object>"
      ]
     },
     "metadata": {},
     "output_type": "display_data"
    }
   ],
   "source": [
    "from cheat_code.common_components.vectorizers import Vectorizer\n",
    "from cheat_code.retrievers import NaiveRetriever\n",
    "from cheat_code.generators import NaiveGenerator\n",
    "\n",
    "vectorizer = Vectorizer()\n",
    "retriever = NaiveRetriever(vectorizer)\n",
    "generator = NaiveGenerator()\n",
    "\n",
    "query = \"What's the difference between Naive RAG and Advanced RAG?\"\n",
    "retrieved_context = retriever.retrieve(query)\n",
    "completion = generator.get_completion(query, retrieved_context)\n",
    "display_md(completion)"
   ]
  },
  {
   "cell_type": "markdown",
   "metadata": {},
   "source": [
    "## Task: Write a system prompt and prompt for the LLM that combines your query with the retrieved context\n",
    "Modify the code in `./workshop_code/generators.py`"
   ]
  },
  {
   "cell_type": "code",
   "execution_count": 2,
   "metadata": {},
   "outputs": [
    {
     "data": {
      "text/markdown": [
       "The difference between Naive RAG and Advanced RAG lies in their approach to retrieval and processing of information. \n",
       "\n",
       "Naive RAG represents the earliest methodology in the RAG family. It follows a traditional \"Retrieve-Read\" framework where raw data is indexed, retrieved based on similarity scores to user queries, and then synthesized into a coherent prompt for response generation. Naive RAG focuses on indexing, retrieval, and generation processes without advanced optimization techniques.\n",
       "\n",
       "On the other hand, Advanced RAG refines the retrieval process by incorporating optimization methods such as a sliding window approach, fine-grained segmentation, and metadata incorporation. It also emphasizes pre-retrieval strategies like enhancing data granularity and query optimization to improve the quality of indexed content and user queries. Post-retrieval efforts in Advanced RAG include re-ranking retrieved information and compressing context to focus on essential details, aiming to reduce information overload and enhance relevance.\n",
       "\n",
       "In summary, Advanced RAG builds upon Naive RAG by introducing more sophisticated techniques for indexing, retrieval, and post-retrieval processes to enhance the quality and efficiency of information retrieval and processing.\n",
       "\n",
       "The context provided does not specifically mention Modular RAG in the comparison between Naive RAG and Advanced RAG, so I have not included details about Modular RAG"
      ],
      "text/plain": [
       "<IPython.core.display.Markdown object>"
      ]
     },
     "metadata": {},
     "output_type": "display_data"
    }
   ],
   "source": [
    "from workshop_code.common_components.vectorizers import Vectorizer\n",
    "from workshop_code.retrievers import NaiveRetriever\n",
    "from workshop_code.generators import NaiveGenerator\n",
    "\n",
    "vectorizer = Vectorizer()\n",
    "retriever = NaiveRetriever(vectorizer)\n",
    "generator = NaiveGenerator()\n",
    "\n",
    "query = \"What's the difference between Naive RAG and Advanced RAG?\"\n",
    "retrieved_context = retriever.retrieve(query)\n",
    "completion = generator.get_completion(query, retrieved_context)\n",
    "display_md(completion)"
   ]
  }
 ],
 "metadata": {
  "kernelspec": {
   "display_name": "venv",
   "language": "python",
   "name": "python3"
  },
  "language_info": {
   "codemirror_mode": {
    "name": "ipython",
    "version": 3
   },
   "file_extension": ".py",
   "mimetype": "text/x-python",
   "name": "python",
   "nbconvert_exporter": "python",
   "pygments_lexer": "ipython3",
   "version": "3.12.3"
  }
 },
 "nbformat": 4,
 "nbformat_minor": 2
}
