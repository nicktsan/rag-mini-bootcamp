{
 "cells": [
  {
   "cell_type": "markdown",
   "metadata": {},
   "source": [
    "# Run First"
   ]
  },
  {
   "cell_type": "code",
   "execution_count": 2,
   "metadata": {},
   "outputs": [],
   "source": [
    "from IPython.display import Markdown\n",
    "\n",
    "def display_md(content):\n",
    "  display(Markdown(content))"
   ]
  },
  {
   "cell_type": "markdown",
   "metadata": {},
   "source": [
    "# Naive Indexer Architecture\n",
    "In this course, we are indexing a small number of HTML files. However, in production situations, you're likely to encounter some situations that significantly increase the complexity of accurate indexing:  \n",
    "- PDFs contain much of the world's unstructured data\n",
    "- Parsing PDFs with vision can require layout understanding, which is not a generally solved problem\n",
    "- PDFs often contain tables, graphics, footnotes, equations, etc that require special handling\n",
    "- Many business cases require indexing highly heterogenous document layouts\n",
    "\n",
    "Since accurately indexing files is the beginning of your inference pipeline, this is often one of the most consequential engineering problems to perform well at.\n",
    "\n",
    "## loaders.py\n",
    "Look at `./workshop-code/indexer_components/loaders.py`\n",
    "\n",
    "The function here is pretty simple. It downloads a file at a specified URI, then saves it to a cache so it doesn't need to be downloaded on each subsequent run in the notebook. The preprocessor will consume this file in the next step. \n",
    "\n",
    "### Task: Read the Code\n",
    "This part isn't interesting, so just look at the code and understand what it does. If you have any questions, let one of us know.\n",
    "\n",
    "Note that the proper way to do caching is by using the HTTP response's `ETag`, `Last-Modified`, and `Cache-Control` headers, but I didn't do that here. If you want extra credit, feel free to send me a pull request with the corrected code.\n",
    "\n",
    "## preprocessors.py\n",
    "Look at `./workshop-code/indexer_components/preprocessors.py`\n",
    "\n",
    "In order to reduce inference costs, we want to strip away all of the HTML syntax besides the human-readable body text of the documents. This is a design decision. In real life, you may, for example, preserve more of the HTML markup to reain the context of how the document is structured.\n",
    "\n",
    "### Easy Task: Configure Beautiful Soup for A Simply Structured Blog Post\n",
    "\n",
    "The unprocessed HTML blog post looks like this:"
   ]
  },
  {
   "cell_type": "code",
   "execution_count": 2,
   "metadata": {},
   "outputs": [
    {
     "data": {
      "text/markdown": [
       "tle\" content=\"LLM Powered Autonomous Agents\" />\n",
       "<meta property=\"og:description\" content=\"Building agents with LLM (large language model) as its core controller is a cool concept. Several proof-of-concepts demos, such as AutoGPT, GPT-Engineer and BabyAGI, serve as inspiring examples. The potentiality of LLM extends beyond generating well-written copies, stories, essays and programs; it can be frame"
      ],
      "text/plain": [
       "<IPython.core.display.Markdown object>"
      ]
     },
     "metadata": {},
     "output_type": "display_data"
    }
   ],
   "source": [
    "from workshop_code.indexer_components.loaders       import DocLoader\n",
    "\n",
    "blog_post_uri = \"https://lilianweng.github.io/posts/2023-06-23-agent/\"\n",
    "doc_content = DocLoader.load_html(blog_post_uri)\n",
    "display_md(doc_content[3400:3800])"
   ]
  },
  {
   "cell_type": "markdown",
   "metadata": {},
   "source": [
    "The processed HTML blog post should like like this:"
   ]
  },
  {
   "cell_type": "code",
   "execution_count": 3,
   "metadata": {},
   "outputs": [
    {
     "data": {
      "text/markdown": [
       "\n",
       "\n",
       "      LLM Powered Autonomous Agents\n",
       "    \n",
       "Date: June 23, 2023  |  Estimated Reading Time: 31 min  |  Author: Lilian Weng\n",
       "\n",
       "\n",
       "Building agents with LLM (large language model) as its core controller is a cool concept. Several proof-of-concepts demos, such as AutoGPT, GPT-Engineer and BabyAGI, serve as inspiring examples. The potentiality of LLM extends beyond generating well-written copies, stories, essays and programs; it can be framed as a powerful general problem solver.\n",
       "Agent System Overview#\n",
       "In a LLM-powered autonomous agent system, LLM functions as the agent’s brain, complemented by several key components:\n",
       "\n",
       "Planning\n",
       "\n",
       "Subgoal and decomposition: The agent breaks down large tasks into smaller, manageable subgoals, enabling efficient handling of complex tasks.\n",
       "Reflection and refinement: The agent can do self-criticism and self-reflection over past actions, learn from mistakes and refine them for future steps, thereby improving the quality of final results.\n",
       "\n",
       "\n",
       "Memory\n",
       "\n",
       "Short-term memory: I "
      ],
      "text/plain": [
       "<IPython.core.display.Markdown object>"
      ]
     },
     "metadata": {},
     "output_type": "display_data"
    }
   ],
   "source": [
    "from cheat_code.indexer_components.loaders       import DocLoader\n",
    "from cheat_code.indexer_components.preprocessors import GithubBlogpostPreprocessor\n",
    "\n",
    "blog_post_uri = \"https://lilianweng.github.io/posts/2023-06-23-agent/\"\n",
    "blog_post_html = DocLoader.load_html(blog_post_uri)\n",
    "preprocessor = GithubBlogpostPreprocessor()\n",
    "cleaned_doc_content = preprocessor.get_text(blog_post_html)\n",
    "\n",
    "display_md(cleaned_doc_content[0:1000])"
   ]
  },
  {
   "cell_type": "markdown",
   "metadata": {},
   "source": [
    "Complete the method `GithubBlogpostPreprocessor.get_text()` in `./workshop_code/preprocessors.py` such that the `cleaned_text` looks like the above output."
   ]
  },
  {
   "cell_type": "code",
   "execution_count": 3,
   "metadata": {},
   "outputs": [
    {
     "data": {
      "text/markdown": [
       "\n",
       "      LLM Powered Autonomous Agents\n",
       "    Date: June 23, 2023  |  Estimated Reading Time: 31 min  |  Author: Lilian Weng\n",
       "\n",
       "Building agents with LLM (large language model) as its core controller is a cool concept. Several proof-of-concepts demos, such as AutoGPT, GPT-Engineer and BabyAGI, serve as inspiring examples. The potentiality of LLM extends beyond generating well-written copies, stories, essays and programs; it can be framed as a powerful general problem solver.\n",
       "Agent System Overview#\n",
       "In a LLM-powered autonomous agent system, LLM functions as the agent’s brain, complemented by several key components:\n",
       "\n",
       "Planning\n",
       "\n",
       "Subgoal and decomposition: The agent breaks down large tasks into smaller, manageable subgoals, enabling efficient handling of complex tasks.\n",
       "Reflection and refinement: The agent can do self-criticism and self-reflection over past actions, learn from mistakes and refine them for future steps, thereby improving the quality of final results.\n",
       "\n",
       "\n",
       "Memory\n",
       "\n",
       "Short-term memory: I wou"
      ],
      "text/plain": [
       "<IPython.core.display.Markdown object>"
      ]
     },
     "metadata": {},
     "output_type": "display_data"
    }
   ],
   "source": [
    "from workshop_code.indexer_components.loaders       import DocLoader\n",
    "from workshop_code.indexer_components.preprocessors import GithubBlogpostPreprocessor\n",
    "\n",
    "blog_post_uri = \"https://lilianweng.github.io/posts/2023-06-23-agent/\"\n",
    "blog_post_html = DocLoader.load_html(blog_post_uri)\n",
    "preprocessor = GithubBlogpostPreprocessor()\n",
    "cleaned_doc_content = preprocessor.get_text(blog_post_html)\n",
    "\n",
    "display_md(cleaned_doc_content[0:1000])"
   ]
  },
  {
   "cell_type": "markdown",
   "metadata": {},
   "source": [
    "## Medium Task: Copy or Write a Preprocessor for the RAG Survey Paper\n",
    "The HTML structure of the Arxiv paper is more complex than the blog post. You can try implementing some of `ArxivHtmlPaperPreprocessor` to see for yourself. But, I suggest just copying the cheat-code. \n",
    "\n",
    "Here is the working implementation:"
   ]
  },
  {
   "cell_type": "code",
   "execution_count": 5,
   "metadata": {},
   "outputs": [
    {
     "data": {
      "text/markdown": [
       "Retrieval-Augmented Generation for Large Language Models: A Survey\n",
       "\n",
       "Yunfan Gao: Shanghai Research Institute for Intelligent Autonomous Systems, Tongji University\n",
       "\n",
       "\n",
       "Yun Xiong: Shanghai Key Laboratory of Data Science, School of Computer Science, Fudan University\n",
       "\n",
       "\n",
       "Xinyu Gao: Shanghai Key Laboratory of Data Science, School of Computer Science, Fudan University\n",
       "\n",
       "\n",
       "Kangxiang Jia: Shanghai Key Laboratory of Data Science, School of Computer Science, Fudan University\n",
       "\n",
       "\n",
       "Jinliu Pan: Shanghai Key Laboratory of Data Science, School of Computer Science, Fudan University\n",
       "\n",
       "\n",
       "Yuxi Bi: College of Design and Innovation, Tongji University\n",
       "\n",
       "\n",
       "Yi Dai: Shanghai Research Institute for Intelligent Autonomous Systems, Tongji University\n",
       "\n",
       "\n",
       "Jiawei Sun: Shanghai Research Institute for Intelligent Autonomous Systems, Tongji University\n",
       "\n",
       "\n",
       "Meng Wang: College of Design and Innovation, Tongji University\n",
       "\n",
       "\n",
       "Haofen Wang: Shanghai Research Institute for Intelligent Autonomous Systems, Tongji University College of Design and Innovation, Tongji University\n",
       "\n",
       "\n",
       "\n",
       "Abstract\n",
       "\n",
       "Large Language Models (LLMs) showcase impressive capabilities but encounter challenges like hallucination, outdated knowledge, and non-transparent, untraceable reasoning processes. Retrieval-Augmented Generation (RAG) has emerged as a promising solution by incorporating knowledge from external databases. This enhances the accuracy and credibility of the generation, particularly for knowledge-intensive tasks, and allows for continuous knowledge updates and integration of domain-specific information. RAG synergistically merges LLMs’ intrinsic knowledge with the vast, dynamic repositories of external databases. This comprehensive review paper offers a detailed examination of the progression of RAG paradigms, encompassing the Naive RAG, the Advanced RAG, and the Modular RAG. It meticulously scrutinizes the tripartite foundation of RAG frameworks, which includes the retrieval, the generation and the augmentation techniques. The paper highlights the s"
      ],
      "text/plain": [
       "<IPython.core.display.Markdown object>"
      ]
     },
     "metadata": {},
     "output_type": "display_data"
    }
   ],
   "source": [
    "from cheat_code.indexer_components.loaders       import DocLoader\n",
    "from cheat_code.indexer_components.preprocessors import ArxivHtmlPaperPreprocessor\n",
    "\n",
    "rag_survey_paper_uri = \"https://arxiv.org/html/2312.10997v5\"\n",
    "rag_survey_paper_html = DocLoader.load_html(rag_survey_paper_uri)\n",
    "preprocessor = ArxivHtmlPaperPreprocessor()\n",
    "cleaned_doc_content = preprocessor.get_text(rag_survey_paper_html)\n",
    "\n",
    "display_md(cleaned_doc_content[0:2000])"
   ]
  },
  {
   "cell_type": "markdown",
   "metadata": {},
   "source": [
    "And, here is the implementation for you to complete:"
   ]
  },
  {
   "cell_type": "code",
   "execution_count": 4,
   "metadata": {},
   "outputs": [
    {
     "data": {
      "text/markdown": [
       "Retrieval-Augmented Generation for Large Language Models: A Survey\n",
       "\n",
       "Yunfan Gao: Shanghai Research Institute for Intelligent Autonomous Systems, Tongji University\n",
       "\n",
       "\n",
       "Yun Xiong: Shanghai Key Laboratory of Data Science, School of Computer Science, Fudan University\n",
       "\n",
       "\n",
       "Xinyu Gao: Shanghai Key Laboratory of Data Science, School of Computer Science, Fudan University\n",
       "\n",
       "\n",
       "Kangxiang Jia: Shanghai Key Laboratory of Data Science, School of Computer Science, Fudan University\n",
       "\n",
       "\n",
       "Jinliu Pan: Shanghai Key Laboratory of Data Science, School of Computer Science, Fudan University\n",
       "\n",
       "\n",
       "Yuxi Bi: College of Design and Innovation, Tongji University\n",
       "\n",
       "\n",
       "Yi Dai: Shanghai Research Institute for Intelligent Autonomous Systems, Tongji University\n",
       "\n",
       "\n",
       "Jiawei Sun: Shanghai Research Institute for Intelligent Autonomous Systems, Tongji University\n",
       "\n",
       "\n",
       "Meng Wang: College of Design and Innovation, Tongji University\n",
       "\n",
       "\n",
       "Haofen Wang: Shanghai Research Institute for Intelligent Autonomous Systems, Tongji University College of Design and Innovation, Tongji University\n",
       "\n",
       "\n",
       "\n",
       "\n",
       "Abstract\n",
       "Large Language Models (LLMs) showcase impressive capabilities but encounter challenges like hallucination, outdated knowledge, and non-transparent, untraceable reasoning processes. Retrieval-Augmented Generation (RAG) has emerged as a promising solution by incorporating knowledge from external databases. This enhances the accuracy and credibility of the generation, particularly for knowledge-intensive tasks, and allows for continuous knowledge updates and integration of domain-specific information. RAG synergistically merges LLMs’ intrinsic knowledge with the vast, dynamic repositories of external databases. This comprehensive review paper offers a detailed examination of the progression of RAG paradigms, encompassing the Naive RAG, the Advanced RAG, and the Modular RAG. It meticulously scrutinizes the tripartite foundation of RAG frameworks, which includes the retrieval, the generation and the augmentation techniques. The paper highlights the s"
      ],
      "text/plain": [
       "<IPython.core.display.Markdown object>"
      ]
     },
     "metadata": {},
     "output_type": "display_data"
    }
   ],
   "source": [
    "from workshop_code.indexer_components.loaders       import DocLoader\n",
    "from workshop_code.indexer_components.preprocessors import ArxivHtmlPaperPreprocessor\n",
    "\n",
    "rag_survey_paper_uri = \"https://arxiv.org/html/2312.10997v5\"\n",
    "rag_survey_paper_html = DocLoader.load_html(rag_survey_paper_uri)\n",
    "preprocessor = ArxivHtmlPaperPreprocessor()\n",
    "cleaned_doc_content = preprocessor.get_text(rag_survey_paper_html)\n",
    "\n",
    "display_md(cleaned_doc_content[0:2000])"
   ]
  },
  {
   "cell_type": "markdown",
   "metadata": {},
   "source": [
    "## Hard Task, not recommended for today: Write a Preprocessor for the PDF Version of the RAG Survey Paper\n",
    "In production applications, you're likely to need to do inference on PDFs. Today this is often a non-trivial task. The most popular open source solution is Tesseract. However, Tesseract often underperforms computer vision-based services from vendors like Google Cloud and AWS."
   ]
  },
  {
   "cell_type": "markdown",
   "metadata": {},
   "source": [
    "## text_splitters.py\n",
    "Because LLM context windows are limited, semantic indexing strategies rely on text splitting. In this tutorial, we use the most naive strategy, character text splitting. To find inspiration or source code for more strategies, I look at LlamaIndex and Langchain. However, in some production situations, it will make sense to write a text splitter specific to your needs.\n",
    "\n",
    "### Text splitting task #1: examine and copy the code for the text splitter\n",
    "Here is the working implementation:"
   ]
  },
  {
   "cell_type": "code",
   "execution_count": 7,
   "metadata": {},
   "outputs": [
    {
     "data": {
      "text/markdown": [
       "approaches in their respective contexts, and speculate on upcoming trends and innovations. Our contributions are as follows: In this survey, we present a thorough and systematic review of the state-of-the-art RAG methods, delineating its evolution through paradigms including naive RAG, advanced RAG, and modular RAG. This review contextualizes the broader scope of RAG research within the landscape of LLMs. We identify and discuss the central technologies integral to the RAG process, specifically focusing on the aspects of “Retrieval”, “Generation” and “Augmentation”, and delve into their synergies, elucidating how these components intricately collaborate to form a cohesive and effective RAG framework. We have summarized the current assessment methods of RAG, covering 26 tasks, nearly 50 datasets, outlining the evaluation objectives and metrics, as well as the current evaluation benchmarks and tools. Additionally, we anticipate future directions for RAG, emphasizing potential enhancements to tackle current challenges. The paper unfolds as follows: SectionIIintroduces the main concept and current paradigms of RAG. The following three sections explore core components—“Retrieval”, “Generation” and “Augmentation”, respectively. SectionIIIfocuses on optimization methods in retrieval,including indexing, query and embedding optimization. SectionIVconcentrates on post-retrieval process and LLM fine-tuning in generation. SectionVanalyzes the three augmentation processes. SectionVIfocuses on RAG’s downstream tasks and evaluation system. SectionVIImainly discusses the challenges that RAG currently faces and its future development directions. At last, the paper concludes in SectionVIII. IIOverview of RAG A typical application of RAG is illustrated in Figure2. Here, a user poses a question to ChatGPT about a recent, widely discussed news. Given ChatGPT’s reliance on pre-training data, it initially lacks the capacity to provide updates on recent developments. RAG bridges this information gap by sourcing and incorporating knowledge"
      ],
      "text/plain": [
       "<IPython.core.display.Markdown object>"
      ]
     },
     "metadata": {},
     "output_type": "display_data"
    }
   ],
   "source": [
    "from cheat_code.indexer_components.loaders        import DocLoader\n",
    "from cheat_code.indexer_components.preprocessors  import ArxivHtmlPaperPreprocessor\n",
    "from cheat_code.indexer_components.text_splitters import SimpleCharacterTextSplitter\n",
    "\n",
    "CHUNK_SIZE = 250\n",
    "OVERLAP_SIZE = 25\n",
    "rag_survey_paper_uri = \"https://arxiv.org/html/2312.10997v5\"\n",
    "preprocessor = ArxivHtmlPaperPreprocessor()\n",
    "text_splitter = SimpleCharacterTextSplitter(CHUNK_SIZE, OVERLAP_SIZE)\n",
    "\n",
    "rag_survey_paper_html = DocLoader.load_html(rag_survey_paper_uri)\n",
    "cleaned_doc_content = preprocessor.get_text(rag_survey_paper_html)\n",
    "text_splits = text_splitter.split_text(cleaned_doc_content)\n",
    "\n",
    "display_md(text_splits[3])"
   ]
  },
  {
   "cell_type": "markdown",
   "metadata": {},
   "source": [
    "Copy the code from `cheat_code/indexer_components/text_splitters.py` to `workshop_code/` so that the code below works: "
   ]
  },
  {
   "cell_type": "code",
   "execution_count": 5,
   "metadata": {},
   "outputs": [
    {
     "data": {
      "text/markdown": [
       "techniques, assess the strengths and weaknesses of various approaches in their respective contexts, and speculate on upcoming trends and innovations. Our contributions are as follows: • In this survey, we present a thorough and systematic review of the state-of-the-art RAG methods, delineating its evolution through paradigms including naive RAG, advanced RAG, and modular RAG. This review contextualizes the broader scope of RAG research within the landscape of LLMs. • We identify and discuss the central technologies integral to the RAG process, specifically focusing on the aspects of “Retrieval”, “Generation” and “Augmentation”, and delve into their synergies, elucidating how these components intricately collaborate to form a cohesive and effective RAG framework. • We have summarized the current assessment methods of RAG, covering 26 tasks, nearly 50 datasets, outlining the evaluation objectives and metrics, as well as the current evaluation benchmarks and tools. Additionally, we anticipate future directions for RAG, emphasizing potential enhancements to tackle current challenges. The paper unfolds as follows: Section II introduces the main concept and current paradigms of RAG. The following three sections explore core components—“Retrieval”, “Generation” and “Augmentation”, respectively. Section III focuses on optimization methods in retrieval,including indexing, query and embedding optimization. Section IV concentrates on post-retrieval process and LLM fine-tuning in generation. Section V analyzes the three augmentation processes. Section VI focuses on RAG’s downstream tasks and evaluation system. Section VII mainly discusses the challenges that RAG currently faces and its future development directions. At last, the paper concludes in Section VIII. A typical application of RAG is illustrated in Figure 2. Here, a user poses a question to ChatGPT about a recent, widely discussed news. Given ChatGPT’s reliance on pre-training"
      ],
      "text/plain": [
       "<IPython.core.display.Markdown object>"
      ]
     },
     "metadata": {},
     "output_type": "display_data"
    }
   ],
   "source": [
    "from workshop_code.indexer_components.loaders        import DocLoader\n",
    "from workshop_code.indexer_components.preprocessors  import ArxivHtmlPaperPreprocessor\n",
    "from workshop_code.indexer_components.text_splitters import SimpleCharacterTextSplitter\n",
    "\n",
    "CHUNK_SIZE = 250\n",
    "OVERLAP_SIZE = 25\n",
    "rag_survey_paper_uri = \"https://arxiv.org/html/2312.10997v5\"\n",
    "preprocessor = ArxivHtmlPaperPreprocessor()\n",
    "text_splitter = SimpleCharacterTextSplitter(CHUNK_SIZE, OVERLAP_SIZE)\n",
    "\n",
    "rag_survey_paper_html = DocLoader.load_html(rag_survey_paper_uri)\n",
    "cleaned_doc_content = preprocessor.get_text(rag_survey_paper_html)\n",
    "text_splits = text_splitter.split_text(cleaned_doc_content)\n",
    "\n",
    "display_md(text_splits[3])"
   ]
  },
  {
   "cell_type": "markdown",
   "metadata": {},
   "source": [
    "### Text Splitting Task #2: look at alternative text splitters\n",
    "Make a mental note of the other text splitters available here:\n",
    "- [Langchain: Text Splitters](https://python.langchain.com/v0.2/docs/how_to/#text-splitters)\n",
    "- [LlamaIndex: Text Splitters](https://medium.com/@bavalpreetsinghh/llamaindex-chunking-strategies-for-large-language-models-part-1-ded1218cfd30)"
   ]
  },
  {
   "cell_type": "markdown",
   "metadata": {},
   "source": [
    "## Embeddings: vectorizers.py\n",
    "Embeddings of text is currently the most common method of preparing human-readable text so that they can be compared to each other for relatedness. Currently, OpenAI's embedding models rank amongst the highest performing, so we use theirs.  \n",
    "\n",
    "OpenAI's text embedding models take up to 8191 tokens as input and convert them to a vector of dimension 1536 for `text-embedding-3-small` or 3072 for `text-embedding-3-large`.\n",
    "\n",
    "### Embeddings Task #1: Use OpenAI's Embeddings API\n",
    "The embeddings code for your naive RAG pipeline should behave like this:"
   ]
  },
  {
   "cell_type": "code",
   "execution_count": 9,
   "metadata": {},
   "outputs": [
    {
     "name": "stdout",
     "output_type": "stream",
     "text": [
      "Dimensions: 2x1536\n",
      "[[0.02242061123251915, 0.019083090126514435, -0.022541731595993042, 0.045567940920591354, -0.04056165739893913, -0.011593852192163467, 0.02302621118724346, 0.01791226491332054, -0.003990223165601492, -0.025394774973392487, 0.03854299709200859, 0.0031995801255106926, 0.03248700872063637, 0.05652255192399025, 0.008478382602334023, 0.005574873182922602, 0.033752039074897766, -0.015772482380270958, -0.0118428198620677, 0.03924280032515526, 0.04879780113697052, 0.024048998951911926, 0.04877088591456413, -0.014278672635555267, 0.016741441562771797, -0.01806030049920082, 0.005097122862935066, -0.04443749040365219, 0.017966097220778465, 0.00755652692168951, 0.0397811084985733, -0.027359606698155403, 0.048071082681417465, -0.009225287474691868, -0.0047775013372302055, 0.045944757759571075, 0.03741254657506943, 0.017024053260684013, -0.0015947434585541487, 0.01055760495364666, -0.012616640888154507, 0.01612238399684429, 0.043064799159765244, -0.00729410070925951, 0.006856723688542843, -0.0034031285904347897, -0.037735532969236374, 0.036766573786735535, 0.05921410024166107, 0.03606677055358887, -0.009131083264946938, 0.010073126293718815, -0.0023315551225095987, 0.025435147807002068, -0.006537102162837982, -0.04976676031947136, -0.020213540643453598, 0.002871547359973192, 0.03340213745832443, -0.019163835793733597, -0.025381317362189293, -0.007374847307801247, 0.022743597626686096, -0.032513923943042755, -0.007442135829478502, -0.027548015117645264, 0.025246739387512207, 0.04077698290348053, -0.035313136875629425, -0.006873545702546835, 0.05407324060797691, 0.03267541900277138, -0.009057065472006798, 0.03490940481424332, 0.015880145132541656, 0.01795263960957527, 0.007233540527522564, -0.038785237818956375, -0.021545859053730965, 0.028449684381484985, 0.05089721083641052, -0.00781895313411951, -0.02742689475417137, -0.0061501916497945786, 0.039673447608947754, -0.030414516106247902, 0.031733375042676926, 0.033590544015169144, -0.01453437004238367, 0.013955687172710896, 0.0008806415135040879, 0.018894681707024574, 0.019244583323597908, 0.009803971275687218, -0.011089186184108257, 0.011116101406514645, -0.017898807302117348, -0.03913513943552971, -0.014090264216065407, 0.06723491847515106, 0.03254083916544914, -0.007146065589040518, -0.02633681707084179, 0.009306034073233604, -0.011304509826004505, -0.0056354328989982605, 0.015839772298932076, -0.037547122687101364, 0.023268450051546097, 0.03227168321609497, -0.04944377392530441, -0.07487892359495163, 0.0003290840541012585, -0.00043233021278865635, 0.01850440725684166, 0.012226366437971592, 0.034451842308044434, -0.018235251307487488, 0.010954609140753746, -0.02764221839606762, -0.025233281776309013, 0.004750585649162531, -0.008438009768724442, -0.05065497010946274, -0.016014723107218742, 0.03913513943552971, -0.03297148644924164, 0.029445556923747063, -0.043710771948099136, 0.0435761958360672, 0.030414516106247902, -0.01618967391550541, 0.02029428817331791, -0.038892898708581924, 0.007623815443366766, 0.016014723107218742, -0.0010505456011742353, -0.039861857891082764, 0.005127402953803539, -3.36180892190896e-05, 0.0423111654818058, -0.045756351202726364, 0.04957835003733635, 0.019379159435629845, 0.004515075124800205, -0.007011488080024719, -0.0005509266629815102, 0.05237756296992302, 0.021034464240074158, -0.011540020816028118, -0.005238429177552462, 0.022030336782336235, -0.0013928771950304508, -0.009454069659113884, -0.0022020244505256414, -0.0494706891477108, -0.01793918013572693, 0.004932265263050795, 0.001139703206717968, -0.02958013489842415, 0.000561440538149327, -0.014749694615602493, -0.001495492528192699, -0.042284250259399414, -0.019540652632713318, -0.005695992615073919, -0.038300756365060806, 0.03827384114265442, -0.07041095197200775, -0.040615491569042206, -0.027749881148338318, -0.04443749040365219, 0.00443096412345767, 0.016068553552031517, -0.04963218420743942, -0.006856723688542843, -0.02174772508442402, -0.031033571809530258, -0.050197407603263855, -0.0091579994186759, 0.004784230142831802, 0.0679885521531105, 0.0315718837082386, -0.021088294684886932, -0.03399427607655525, -0.014628574252128601, 0.035797614604234695, -0.0014080171240493655, 0.03787010908126831, 0.006368880160152912, 0.020994089543819427, -0.04432982951402664, 0.05969858169555664, 0.008855199441313744, 0.017118258401751518, 0.009413695894181728, 0.018141048029065132, -0.01816796325147152, -0.022622477263212204, 0.03044143132865429, 0.020119337365031242, 0.010550876148045063, 0.05582274869084358, -0.04772118106484413, 0.009487713687121868, -0.029257148504257202, 0.002417348325252533, -0.022003421559929848, 0.013047289103269577, -0.02600037306547165, 0.06136734038591385, -0.0009025103645399213, -0.03216402232646942, -0.018813934177160263, 0.010981524363160133, -0.004790958948433399, 0.05062805488705635, 0.011802447028458118, 0.02309349924325943, 0.0019009072566404939, -0.05673787370324135, 0.03819309547543526, 0.07676300406455994, 0.05689936876296997, -0.029526304453611374, -0.013363545760512352, 0.0035326594952493906, -0.01208505965769291, -0.03404810652136803, -0.0005971876671537757, 0.024708429351449013, 0.024223949760198593, -0.0015081091551110148, -0.016243504360318184, -0.02622915431857109, 0.02608112059533596, 0.004494888707995415, 0.01229365449398756, 0.02690204232931137, 0.0038455522153526545, -0.034532587975263596, 0.015516785904765129, -0.0068298084661364555, 0.010772929526865482, -0.020684562623500824, 0.010618165135383606, -0.011560207232832909, -0.0517854243516922, -0.0029590227641165257, 0.04766735062003136, 0.012037958018481731, -0.034263432025909424, -0.01400951761752367, 0.01597435027360916, 0.01730666682124138, 0.038408420979976654, -0.016310792416334152, 0.04040016606450081, 0.05113945156335831, -0.0320025309920311, -0.015772482380270958, 0.03369820490479469, -0.05824514478445053, -0.03819309547543526, -0.013578870333731174, -0.011910108849406242, 0.005568144377321005, 0.02085951343178749, 0.015139969065785408, 0.02477571740746498, 0.010961337946355343, -0.02890724688768387, 0.05022432282567024, 0.04572943598031998, -0.033590544015169144, 0.0013339994475245476, 0.0015939022414386272, 0.01227346807718277, -0.03566303849220276, 0.03932354599237442, 0.00960883405059576, -0.0019278227118775249, 0.008983048610389233, -0.01527454610913992, -0.007078776601701975, 0.012939627282321453, 0.02077876590192318, 0.010497044771909714, 0.02555626817047596, 0.028072867542505264, -0.05819131061434746, -0.012838693335652351, 0.020200083032250404, -0.0037143391091376543, -0.025758134201169014, 0.003727796720340848, 0.00789297092705965, 0.012024499475955963, -0.020267371088266373, 0.034451842308044434, 0.06836537271738052, 0.0677732303738594, 0.03838150203227997, 0.003573032794520259, 0.0027453810907900333, 0.06045221537351608, 0.06271311640739441, -0.046240828931331635, 0.010739284567534924, 0.02955321967601776, 0.021989963948726654, 0.016310792416334152, -0.057437676936388016, 0.05218915641307831, 0.025246739387512207, -0.03679348900914192, -0.03910822048783302, 0.0014139048289507627, -0.015059222467243671, -0.042364995926618576, -0.018033385276794434, -0.004383862018585205, -0.00359994824975729, -0.05361567810177803, -0.024681514129042625, 0.010019294917583466, -0.012771405279636383, 0.03770861774682999, 0.0212632454931736, -0.027399979531764984, 0.026282986626029015, 0.009339679032564163, 0.0031272447668015957, -0.005743094719946384, 0.00622084503993392, -0.052996620535850525, 0.023927880451083183, 0.03364437445998192, -0.010853675194084644, -0.007980446331202984, 0.029822373762726784, -0.08995160460472107, -0.01511305384337902, 0.0258927121758461, 0.0036706014070659876, -0.02618878148496151, -0.0003597845498006791, -0.022366780787706375, 0.013942229561507702, 0.03439800813794136, -0.012771405279636383, -0.024600766599178314, 0.03496323525905609, 0.013020372949540615, 0.020644189789891243, -0.009729953482747078, 0.007361389230936766, -0.0293648112565279, 0.010026023723185062, 0.07541723549365997, -0.00039511112845502794, 0.033186811953783035, 0.037547122687101364, 0.005561415106058121, -0.008875385858118534, 0.02793828956782818, -0.030279938131570816, 0.024668056517839432, -0.019163835793733597, 0.02809978276491165, -0.01772385649383068, 0.05942942574620247, 6.113814015407115e-05, 0.013262612745165825, -0.06432804465293884, 0.05296970531344414, 0.01806030049920082, -0.02462768368422985, -0.03881215304136276, 0.007610357832163572, -0.00903015024960041, -0.010301907546818256, -0.02071147784590721, 0.008128480985760689, -0.02648485265672207, 0.003322381991893053, -0.010093312710523605, -0.016701068729162216, -0.01365288719534874, 0.016055095940828323, 0.028449684381484985, -0.005201420281082392, -0.0376816987991333, 0.0041954535990953445, -0.08133864402770996, 0.021545859053730965, 0.0009798924438655376, 0.07331782579421997, 0.02861117757856846, 0.017818061634898186, 0.00016054675506893545, -0.06664277613162994, -0.038892898708581924, -0.02238023839890957, -0.00780549505725503, 0.006069445516914129, -0.004723670426756144, -0.009380051866173744, -0.01991746947169304, 0.019755978137254715, -0.05504219979047775, 0.0014273626729846, 0.025650471448898315, 0.013121306896209717, 0.0283151064068079, -0.006123276427388191, 0.014870814047753811, 0.0037883566692471504, -0.020994089543819427, -0.015045764856040478, -0.02513907663524151, -0.007260456215590239, 0.004774136934429407, -0.05528443679213524, 0.0030414515640586615, -0.03267541900277138, -0.008734080009162426, -0.03111431933939457, 0.00882155541330576, -0.043710771948099136, -0.038489166647195816, 0.024896837770938873, -0.03216402232646942, -0.0022306221071630716, 0.04834023863077164, 0.003680694615468383, -0.08080033212900162, 0.029203318059444427, -0.020240455865859985, -0.045756351202726364, 0.009716495871543884, -0.02216491475701332, 0.04895929619669914, -0.005134131759405136, -0.061205849051475525, -0.036093685775995255, -0.006284769158810377, -0.01835637167096138, -0.030656754970550537, 0.0008120911079458892, -0.016055095940828323, -0.06039838120341301, -0.030172275379300117, -0.01797955483198166, 0.04869014024734497, 0.051650844514369965, -0.01947336457669735, 0.017400871962308884, 0.006735603790730238, -0.042364995926618576, 0.005036563146859407, 0.017172088846564293, 0.020765308290719986, 0.009386780671775341, 0.008552400395274162, -0.02010587975382805, 0.06303609907627106, -0.05582274869084358, -0.061421170830726624, 0.0007734000682830811, -0.023295365273952484, 0.02559664100408554, 0.026363732293248177, 0.020617272704839706, -0.048071082681417465, 0.017266293987631798, -0.01842365972697735, -0.004811145830899477, 0.03132964298129082, -0.01272430270910263, 0.0062174806371331215, 0.013753821142017841, 0.018813934177160263, 0.03418268635869026, -0.025273654609918594, 0.042661067098379135, -0.01132469717413187, 0.062067143619060516, 0.030010782182216644, -0.04136912524700165, -0.015382208861410618, 0.004494888707995415, 0.004481430631130934, -0.013417377136647701, -0.0026797745376825333, -0.003778263460844755, 0.050493478775024414, -0.01270411629229784, 0.009454069659113884, -0.03504398092627525, 0.0253678597509861, -0.017521990463137627, 0.02917640283703804, 0.028476599603891373, 0.01812759041786194, -0.011149746365845203, -0.024560393765568733, -0.004679932724684477, 0.016458828002214432, 0.022582104429602623, -0.02958013489842415, 0.00908398162573576, 0.01999821700155735, -0.0034300440456718206, -0.005325904581695795, -0.0031928513199090958, 0.021613147109746933, -0.019688688218593597, 0.00018851364438887686, 0.041799772530794144, -0.02861117757856846, 0.0088955732062459, 0.018383286893367767, 0.02671363390982151, 0.048259492963552475, -0.041207630187273026, 0.014547827653586864, -0.02332228049635887, 0.006796163972467184, 0.021330533549189568, 0.013572141528129578, -0.015328377485275269, 0.015193800441920757, 0.021720807999372482, 0.014722778461873531, 0.013128035701811314, -0.03315989673137665, 0.025206366553902626, -0.012529165484011173, 0.04599859192967415, 0.0192580409348011, 0.015341835096478462, -0.006890368182212114, 0.00908398162573576, 0.0036840590182691813, 0.05722235515713692, -0.003986858297139406, 0.005776739213615656, 0.0029136028606444597, 0.0317872054874897, 0.020469238981604576, 0.05017049238085747, 0.02372601442039013, -0.027144283056259155, 0.015907060354948044, -0.021182497963309288, 0.02197650633752346, -0.016108926385641098, -0.04761352017521858, 0.003260140074416995, -0.021586231887340546, 0.00876772403717041, 0.016876019537448883, -0.005154318176209927, -0.009521358646452427, 0.002933789510279894, 0.022286035120487213, 0.017696941271424294, -0.033967360854148865, -0.018073758110404015, -0.005726272705942392, 0.040238674730062485, 0.031625714153051376, -0.036578163504600525, -0.028072867542505264, -0.04486813768744469, -0.008303431794047356, -0.015234173275530338, 0.02507178857922554, -0.05334652215242386, 0.004319937899708748, -0.007798766251653433, 0.01880047656595707, 0.015812857076525688, -0.027965204790234566, 0.03784319385886192, 0.06513550877571106, -0.006473178043961525, -0.02645793743431568, -0.00022983313829172403, 0.024560393765568733, 0.02018662542104721, -0.016095468774437904, 0.062067143619060516, 0.017481617629528046, 0.037251051515340805, -0.02753455750644207, -0.017212461680173874, 0.01113628875464201, -0.010059668682515621, 0.020213540643453598, -0.013215511105954647, -0.0067322393879294395, 0.012912711128592491, -0.0242104921489954, -0.0328369103372097, 0.016579948365688324, -0.0007124196272343397, -0.023160787299275398, 0.031733375042676926, 0.00304481596685946, 0.008606230840086937, 0.049982085824012756, 0.008094836957752705, -0.03846225142478943, 0.025421690195798874, -0.014722778461873531, -0.02890724688768387, -0.012313841842114925, -0.011762073263525963, -0.0031995801255106926, 0.004642923828214407, 0.0018235251773148775, 0.02040194906294346, 0.003916205372661352, 0.028557345271110535, -0.011815904639661312, -0.006442897953093052, 0.01561099011451006, -0.01082003116607666, 0.0036571435630321503, -0.0075363400392234325, 0.022783970460295677, 0.022595562040805817, -0.018181420862674713, 0.0157859418541193, -0.04190743342041969, -0.019056174904108047, -0.0005950849154032767, 0.015328377485275269, -0.010382654145359993, 0.020052047446370125, -0.017481617629528046, -0.006476542446762323, 0.004780865740031004, -0.01132469717413187, 0.011957211419939995, 0.009952005930244923, -0.026955874636769295, -0.01660686358809471, 0.01365288719534874, 0.004774136934429407, 0.026511767879128456, -0.018961969763040543, 0.0065942974761128426, -0.04909387230873108, 0.0007048496627248824, 0.004097884986549616, 0.018787018954753876, 0.016660694032907486, 0.016579948365688324, 0.01400951761752367, 0.0013365228660404682, -0.04058857634663582, 0.013477937318384647, -0.0036234993021935225, -0.041772857308387756, -0.026161866262555122, -0.004286293406039476, -0.01400951761752367, 0.0420958437025547, 0.003859009826555848, 0.05313119664788246, -0.0397811084985733, 0.02850351482629776, 0.025340944528579712, -0.011391985230147839, 0.027373064309358597, 0.026538683101534843, 2.5588124117348343e-05, -0.008801368996500969, 0.007543068844825029, -0.01888122409582138, 0.030279938131570816, 0.01936570182442665, 0.004208911210298538, -0.014749694615602493, 0.00031583657255396247, -0.059483256191015244, 0.01682218722999096, -0.020657647401094437, -0.0015644634841009974, 0.06088286265730858, -0.009676122106611729, 0.0054436600767076015, -0.0027453810907900333, 0.012529165484011173, 0.001279327436350286, 0.03342905268073082, -0.056576382368803024, 0.007596900220960379, -0.0030044426675885916, 0.02376638725399971, 0.0054470244795084, 0.013531767763197422, -0.03902747482061386, -0.017589280381798744, 0.005807019304484129, 0.013451021164655685, 0.00018945989722851664, -0.024452732875943184, 0.010167330503463745, 0.0473712794482708, 0.02730577439069748, -0.026552140712738037, -0.025044873356819153, -0.011486189439892769, -0.03391353040933609, -0.01227346807718277, 0.0505203939974308, 0.024533478543162346, -0.018369829282164574, -0.009191643446683884, 0.023645266890525818, -0.0010623211273923516, -0.030468346551060677, 0.015543701127171516, 0.018033385276794434, -0.024493105709552765, 0.02264939434826374, 0.023268450051546097, 0.01270411629229784, -0.00046050737728364766, -0.011762073263525963, 0.014749694615602493, 0.0009378369431942701, -0.049901336431503296, 0.019836723804473877, -0.01970214582979679, -0.00833707582205534, 0.04648306965827942, 0.01113628875464201, -0.022137999534606934, 0.004666475113481283, -0.006029072217643261, -0.018087215721607208, 0.003926298581063747, 0.029337896034121513, -0.027319233864545822, 0.004151715897023678, -0.027669133618474007, 0.01055760495364666, 0.02338957041501999, -0.0018504406325519085, -0.03593219444155693, -0.039269715547561646, -0.052216071635484695, 0.0011918520322069526, 0.02738652192056179, -0.024008626118302345, 0.003949849866330624, 0.045837096869945526, 0.01091423537582159, -0.005026469938457012, -0.03477482497692108, -0.01943299174308777, 0.03380586951971054, -0.018046842887997627, 0.03052217699587345, 0.0223129503428936, 0.010167330503463745, 0.01483044121414423, 0.008626418188214302, -0.01391531340777874, 0.02044232189655304, 0.01449399720877409, 0.012132162228226662, -0.03980802372097969, 0.053857915103435516, 0.019163835793733597, -0.025690844282507896, 0.0026545412838459015, -0.034451842308044434, 0.018329456448554993, 0.0005256933509372175, 0.011566936038434505, -0.009729953482747078, -0.016876019537448883, -0.03205636143684387, -0.03208327665925026, 0.00480441702529788, 0.022891633212566376, 0.010624893940985203, 0.004101249389350414, -0.00027924831374548376, -0.02294546365737915, -0.002306321868672967, -0.0315718837082386, 0.012663742527365685, 0.02984929084777832, -0.02450656332075596, 0.03496323525905609, 0.015005391091108322, 0.012858880683779716, -0.005547957494854927, 0.032137107104063034, 0.001435773679986596, -0.022178372368216515, 0.03555537760257721, -0.017589280381798744, -0.0014425026020035148, 0.011492918245494366, 0.0338866151869297, 0.0046631102450191975, -0.005786832422018051, -0.0389467291533947, -0.006473178043961525, 0.032298602163791656, 0.009447340853512287, 0.0005437772488221526, 0.019110005348920822, -0.04384535178542137, 0.005770010408014059, -0.012542623095214367, 0.013457749970257282, 0.009978922083973885, -0.020549984648823738, 0.031356558203697205, 0.011849548667669296, 0.019163835793733597, 0.02890724688768387, -0.015987807884812355, -0.021586231887340546, -0.03547462821006775, 0.019500279799103737, 0.020267371088266373, 0.0010825077770277858, -0.032513923943042755, -0.01932532899081707, 0.008707164786756039, 0.03138347342610359, -0.029795458540320396, -0.0017966096056625247, 0.011089186184108257, -0.008538942784070969, -0.008734080009162426, -0.032513923943042755, -0.02984929084777832, -0.03062983974814415, 0.02772296592593193, -0.021586231887340546, -0.023591436445713043, 0.011990855447947979, -0.03875831887125969, 0.04085772857069969, 0.0024072551168501377, -0.01921766810119152, -0.03544771298766136, 0.0006400842685252428, 0.012381129898130894, -0.022178372368216515, -0.010833488777279854, -0.03267541900277138, 0.0014164282474666834, -0.017077885568141937, -0.022676309570670128, 0.0027992120012640953, 0.012805049307644367, 0.04346853494644165, 0.04144987091422081, 0.00036546203773468733, -0.005598424002528191, -0.025394774973392487, -0.03633592650294304, 0.008639875799417496, 0.0022171642631292343, -0.004764043726027012, -0.01272430270910263, -0.018679358065128326, 0.06018305942416191, 0.010907506570219994, -0.01753544807434082, 0.015086137689650059, 0.013834566809237003, -0.01258972566574812, 0.04532570391893387, -0.002999396063387394, -0.03862374275922775, -0.03132964298129082, 0.016203131526708603, 0.016727983951568604, -0.05361567810177803, -0.01827562414109707, -0.04435674473643303, -0.004155080299824476, -0.025865795090794563, -0.001462689251638949, -0.01898888498544693, 0.037251051515340805, -0.030872078612446785, -0.029149487614631653, -0.0048851631581783295, -0.010766199789941311, 0.0027823897544294596, -0.008384178392589092, 0.026928957551717758, 0.01618967391550541, -0.007455593440681696, -0.0016527799889445305, -0.008464924991130829, 0.0033728487323969603, 0.02081913873553276, 0.024708429351449013, -0.03682040423154831, 0.025690844282507896, 0.001929504913277924, -0.005682535003870726, -0.010416299104690552, -0.015678279101848602, 0.027615303173661232, 0.0014980158302932978, -0.005009647458791733, 0.010281721130013466, 0.006214116234332323, 0.026915499940514565, -0.007267185021191835, -0.022151457145810127, 0.02995695173740387, 0.07213354110717773, -0.01839674450457096, 0.007502695545554161, -0.023981710895895958, 0.012845422141253948, 0.013094390742480755, 0.0026242611929774284, -0.044383659958839417, -0.0053158113732934, -0.020684562623500824, 0.014991933479905128, 0.019190751016139984, 0.004289657808840275, -0.03910822048783302, 0.006251125130802393, -0.015261088497936726, 0.01419792603701353, 0.016579948365688324, -0.010974795557558537, 0.04696754738688469, 0.02298583649098873, 0.05025123804807663, 0.011721700429916382, -0.017562363296747208, 0.010564333759248257, 0.0019782893359661102, -0.013874940574169159, -0.0044175065122544765, 0.014022976160049438, -0.015772482380270958, 0.030656754970550537, 0.056091904640197754, -0.02279742807149887, 0.01244169007986784, 0.011795718222856522, -0.005460482090711594, -0.015032307244837284, -0.016889477148652077, 0.010355738922953606, -0.017993012443184853, 0.007691104430705309, 0.06551232933998108, -0.026309901848435402, -0.007260456215590239, 0.05498836562037468, 0.020872971042990685, -0.016095468774437904, -0.0025250103790313005, 0.01839674450457096, 0.02302621118724346, -0.00028829023358412087, -0.03127581253647804, -0.011358341202139854, 0.06282077729701996, -0.00373116135597229, -0.009595375508069992, -0.014130637980997562, -0.008868657052516937, 0.0005387305864132941, 0.016512660309672356, 0.02376638725399971, -0.026309901848435402, 0.03297148644924164, 0.04973984509706497, -0.0076036290265619755, 0.022555189207196236, -0.01888122409582138, 0.0034418196883052588, -0.017629653215408325, -0.012973271310329437, -0.010396111756563187, 0.021330533549189568, -0.03485557436943054, -0.02839585207402706, -0.006769248284399509, 0.04260723665356636, -0.01244169007986784, -0.000730082974769175, 0.016553033143281937, -0.03361745923757553, 0.005537864286452532, 0.01976943574845791, -0.01913692057132721, 0.009810700081288815, -0.002343330765143037, -0.05340035259723663, -0.039565786719322205, -0.011385256424546242, -0.004296386614441872, 0.0045251683332026005, 0.025206366553902626, -0.00407433370128274, 0.018262166529893875, -0.007650731131434441, -0.0041113425977528095, -0.035313136875629425, -0.03194870054721832, -0.009507900103926659, -0.021734267473220825, 0.032917656004428864, -0.007085505407303572, 0.012058144435286522, -0.002567065879702568, -0.006227573845535517, 0.015207258053123951, 0.009312762878835201, -0.010772929526865482, -0.01637808233499527, -0.045271873474121094, -0.04066932201385498, -0.03881215304136276, 0.0332675576210022, -0.048636309802532196, -0.000851623248308897, -0.011311238631606102, 0.025394774973392487, 0.006261218339204788, 0.01372690498828888, 0.004370404407382011, 0.005366277880966663, 0.003963307477533817, -0.006890368182212114, 0.018450574949383736, -0.03219093754887581, -0.04174594208598137, -0.009413695894181728, -0.029822373762726784, 0.005706086289137602, 0.045944757759571075, 0.004575635306537151, -0.013713447377085686, 0.048743970692157745, 0.011297781020402908, 0.009709767065942287, -0.007078776601701975, -0.002575476886704564, 0.00874753762036562, -0.01966177299618721, 0.05636105686426163, -0.02660597302019596, -0.0036436859518289566, 0.04403375834226608, 0.007913157343864441, 0.04554102569818497, -0.019015800207853317, 0.041772857308387756, 0.00171586312353611, 0.008390907198190689, 0.020724935457110405, -0.03418268635869026, 0.0055782375857234, 0.029687797650694847, 0.020388491451740265, 0.0236856397241354, 0.015678279101848602, 0.011277594603598118, -0.01629733480513096, 0.008027547970414162, 0.03760095313191414, -0.0029876206535845995, 0.018679358065128326, 0.011540020816028118, 0.011264136992394924, -0.0033442508429288864, -0.021572774276137352, 0.0018151140538975596, 0.03111431933939457, -0.0010808255756273866, -0.014520912431180477, -0.020886428654193878, 0.012394587509334087, -0.006227573845535517, 0.005699357017874718, 0.010853675194084644, 0.0006939152372069657, -0.046617645770311356, -0.04543336480855942, -0.004656381439417601, -0.009097439236938953, 0.004464608617126942, 0.0036874236539006233, 0.03932354599237442, -0.02353760600090027, 0.013363545760512352, -0.002869865158572793, -0.03891981393098831, 0.0332675576210022, 0.007953530177474022, -0.03953887149691582, -0.04214967414736748, 0.0025519258342683315, 0.022030336782336235, -0.019796350970864296, -0.00780549505725503, -0.0014382970985025167, 0.022783970460295677, -0.0157859418541193, 0.0024526750203222036, -0.009830886498093605, -0.009857801720499992, 0.002528374781832099, 0.008249601349234581, 0.022703224793076515, 0.005356184672564268, 0.06352058053016663, 0.02858426235616207, -0.002565383678302169, 0.02201687917113304, -0.0029893028549849987, 0.012125433422625065, 0.01483044121414423, 0.003583126002922654, 0.04470664635300636, -0.0088955732062459, 0.031060487031936646, 0.024789175018668175, 0.01425175741314888, -0.02256864681839943, 0.023295365273952484, 0.12381130456924438, 0.005547957494854927, -0.0183159988373518, -0.002178473398089409, -0.012145619839429855, -0.003342568641528487, 0.03735871613025665, 0.03819309547543526, 0.04298405349254608, 0.009528087452054024, -0.008289974182844162, -0.017373954877257347, -0.0118428198620677, -0.006234302651137114, 0.037035729736089706, 0.013928771950304508, -0.00857931561768055, 0.015355292707681656, 0.008229414001107216, -0.006237667053937912, -0.008848470635712147, -0.024264324456453323, -0.020267371088266373, 0.001929504913277924, -0.026323359459638596, -0.028853416442871094, -0.011741886846721172, -0.04492197185754776, -0.012280196882784367, 0.012475334107875824, 0.0399964340031147, 0.009770326316356659, 0.012690658681094646, -0.02458730898797512, 0.011923566460609436, 0.006496728863567114, 0.004050782881677151, -0.011439087800681591, -0.015584074892103672, 8.312526006193366e-06, 0.013054017908871174, -0.02890724688768387, 0.0007258774130605161, 0.030952826142311096, 0.022958921268582344, -0.0016544621903449297, -0.0343172624707222, -0.008222685195505619, 0.0353669673204422, 0.013753821142017841, -0.00841109361499548, -0.005235064774751663, -0.03614751622080803, 0.015395666472613811, -0.01511305384337902, 0.020361576229333878, -0.011358341202139854, -0.026834754273295403, -0.0005610199877992272, 0.01806030049920082, -0.008417822420597076, -0.012219637632369995, -0.023039668798446655, -0.018517864868044853, 0.026552140712738037, 0.015395666472613811, -0.041880518198013306, 0.0029489295557141304, 0.020698020234704018, 0.0021633333526551723, 0.016620321199297905, 0.0026108035817742348, 0.06061370670795441, -0.00934640783816576, -0.02201687917113304, 0.020684562623500824, -0.004518439527601004, -0.015651363879442215, -0.01783151924610138, -0.0467253103852272, -0.029633965343236923, 0.0018353007035329938, -0.011492918245494366, -0.02227257750928402, 0.0012725985143333673, -0.0002760941570159048, -0.007152794394642115, 0.03003769926726818, 0.0041954535990953445, -0.030414516106247902, 3.275069684605114e-05, 0.005837299395352602, -0.017414329573512077, 0.015718651935458183, 0.02170735038816929, 0.01839674450457096, 0.03208327665925026, -0.0034754639491438866, 0.0011666187783703208, -0.011889922432601452, -0.016162758693099022, -0.03237934783101082, -0.01585322991013527, 0.008431280963122845, -0.0028513609431684017, 0.004922172054648399, -0.0355822928249836, 0.020724935457110405, -0.015207258053123951, -0.016849102452397346, -0.04325320944190025, 0.021021006628870964, 0.021370908245444298, 0.0011523198336362839, 0.0026343546342104673, 0.010093312710523605, -0.020832598209381104, 0.008020819164812565, -0.01839674450457096, -0.04050782695412636, -0.027023162692785263, -0.0004134052724111825, 0.0045386264100670815, 0.011930295266211033, -0.021963048726320267, 0.014628574252128601, -0.0025519258342683315, 0.044572070240974426, 0.051435522735118866, -0.013175137341022491, -0.037627868354320526, 0.027413437142968178, 0.009184914641082287, -0.029230233281850815, -0.0046092793345451355, 0.03673965856432915, 0.006281404756009579, -0.020617272704839706, 0.021626604720950127, -0.010564333759248257, -0.00035684066824615, 0.04492197185754776, 0.03025302290916443, -0.003404810791835189, -0.015920517966151237, -0.0025536080356687307, 0.0005416744388639927, 0.020765308290719986, -0.027480725198984146, 0.006621213164180517, -0.004282929003238678, -0.004232462495565414, -0.005211513955146074, -0.019083090126514435, 0.03585144504904747, -0.0028866874054074287, -0.014224842190742493, -0.011257408186793327, 0.02749418281018734, -0.018369829282164574, -0.014520912431180477, -0.008162125945091248, 0.013794193975627422, -0.002122960053384304, -0.012125433422625065, -0.029337896034121513, -3.30661132466048e-05, -0.0014181104488670826, -0.008101565763354301, -0.02890724688768387, -0.015436039306223392, -0.003764805616810918, -0.018679358065128326, -0.02858426235616207, -0.03690114989876747, 0.00746232271194458, -0.0024711794685572386, 0.011923566460609436, 0.03439800813794136, -0.013780736364424229, -0.014574743807315826, -0.027076993137598038, -0.015691736713051796, -0.0015678278869017959, -0.0021818378008902073, 0.011492918245494366, -0.006543830968439579, -0.014224842190742493, -0.030387600883841515, -0.03149113431572914, 0.013551954180002213, 0.04408758878707886, 4.899462146568112e-05, -0.026538683101534843, -0.02492375299334526, 0.00925220362842083, 0.011990855447947979, -0.008606230840086937, -0.01898888498544693, -0.01053741853684187, -0.0515700988471508, -0.03189486637711525, 0.004030595999211073, 0.053669508546590805, 0.03254083916544914, 0.0008377449703402817, 0.0389467291533947, 0.04193434864282608, -0.02155931666493416, 0.01985018141567707, 0.008202498778700829, -0.016593405976891518, 0.02648485265672207, -0.013181866146624088, 0.008444738574326038, -0.011425630189478397, -0.03402119129896164, -0.014574743807315826, -0.019419534131884575, -0.0014534370275214314, -0.01483044121414423, -0.07218737155199051, -0.011277594603598118, -0.007401762530207634, -0.05835280567407608, 0.01806030049920082, -0.03765478357672691, -0.0332675576210022, -0.009750139899551868, 0.03490940481424332, -0.006452991161495447, 0.013383732177317142, -0.003983493894338608, -0.010665266774594784, 0.002334919758141041, -0.010254805907607079, -0.018221793696284294, -0.046321574598550797, -0.012313841842114925, 0.02111520990729332, 0.019823266193270683, -0.020280828699469566, 0.023403028026223183, 0.04282256215810776, -0.00262089679017663, 0.022932006046175957, 0.0002531739301048219, 0.010470129549503326, 0.005416744388639927, 0.0019631492905318737, -0.023739472031593323, -0.009171457029879093, -0.013249155133962631, -0.00895613245666027, -0.013942229561507702, 0.009420424699783325, -0.012905982322990894, -0.028261275961995125, 0.031652629375457764, 0.005756552796810865, -0.042957138270139694, -0.0003124721406493336, 0.00712587870657444, 0.0007342884782701731, 0.029741628095507622, 0.007845868356525898, 0.007966987788677216, -0.02690204232931137, 0.03267541900277138, 0.014884271658957005, 0.006809621583670378, 0.033186811953783035, -0.01217926386743784, -0.029149487614631653, 0.0041651735082268715, -0.00635205814614892, -0.006365515757352114, -0.01229365449398756, -0.0028328564949333668, -0.009615562856197357, 0.008801368996500969, 0.020724935457110405, -0.003371166530996561, -0.00929257646203041, 0.024156661704182625, -0.03235243260860443, -0.007475780323147774, -0.01304056029766798, -0.008942674845457077, 0.0029102384578436613, 0.010833488777279854, -6.597452011192217e-05, -0.016647236421704292, -0.013282799161970615, 0.05932176485657692, 0.01991746947169304, 0.002575476886704564, -0.014480539597570896, -0.016876019537448883, -0.0024913661181926727, -0.01287233829498291, -0.005611882079392672, -0.006998030003160238, 0.017441244795918465, 0.029876206070184708, 0.033859699964523315, 0.037627868354320526, 0.03455950319766998, 0.012596454471349716, -0.016149301081895828, 0.03003769926726818, 0.007933343760669231, 0.00429975101724267, -0.038031600415706635, -0.022178372368216515, -0.02783062681555748, 0.019581027328968048, 0.021317075937986374, 0.04511037841439247, 0.009373323060572147, -0.019392618909478188, 0.005265344865620136, 0.006604391150176525, 0.0307375006377697, -0.04524495452642441, 0.03227168321609497, -0.029418641701340675, 0.029418641701340675, 0.02574467658996582, 0.007334474008530378, -0.008626418188214302, 0.02984929084777832, -0.01268392987549305, -0.00857931561768055, -0.018571695312857628, -0.010100041516125202, -0.024371985346078873, 0.024910295382142067, 0.02227257750928402, -0.003848916618153453, 0.024910295382142067, 0.009097439236938953, -0.019944386556744576, 0.012784862890839577, 0.002651176881045103, 0.0088955732062459, -0.006917283404618502, -0.005214878357946873, 0.00424255570396781, 0.00527880247682333, -0.004703483544290066, -0.018410202115774155, -0.014695863239467144, -0.01134488359093666, -0.026646345853805542, -0.003031358355656266, 0.0043872264213860035, -0.05035890266299248, -0.008902302011847496, 0.007495966739952564, 0.006415982265025377, -0.0032248133793473244, 0.0017343675717711449, -0.0033577086869627237, -0.012354214675724506, 0.0364166721701622, -0.00043821800500154495, 0.00020155083620920777, 0.00497936736792326, 0.026686718687415123, -0.018746646121144295, -0.01951373741030693, -0.015530243515968323, -0.016499202698469162, -0.0020607179030776024, -0.007650731131434441, -0.00022184259432833642, 0.010301907546818256, -0.004434328526258469, 0.016055095940828323, -0.01322896871715784, -0.03342905268073082, -0.008902302011847496, 0.021061379462480545, 0.02447964809834957, 0.0015728746075183153, -0.03797776997089386, 0.0009260614169761539, 0.02861117757856846], [0.022146856412291527, -0.041831377893686295, -0.02074587345123291, -0.038491662591695786, -0.014455599710345268, -0.021991191431879997, -0.033482085913419724, 0.0701906755566597, -0.0051900059916079044, -0.006544997449964285, -0.02135438099503517, -0.003636895911768079, -0.04137853533029556, -0.004478901159018278, 0.006965999957174063, 0.04273706674575806, 0.0077973916195333, -0.026576228439807892, -0.014547583647072315, 0.04171816632151604, 0.0017910297028720379, -0.02729794569313526, -0.014427296817302704, -0.0013381866738200188, 0.007655878085643053, -0.02033548429608345, 0.020519452169537544, -0.040189821273088455, 0.03433116525411606, -0.0494731068611145, 0.012736211530864239, -0.029576312750577927, 0.014101816341280937, -0.05352038890123367, -0.0002009933377848938, -0.01229044422507286, 0.018255235627293587, -0.020123213529586792, -0.018311841413378716, -0.024198802188038826, -0.045878663659095764, -0.02223176509141922, 0.025189395993947983, -0.04129362851381302, 0.04896365851163864, 0.041774772107601166, -0.007401153910905123, -0.008016737177968025, 0.0066086784936487675, 0.038491662591695786, 0.028953654691576958, 0.00040132334106601775, 0.012304595671594143, 0.09051200747489929, -0.04098229855298996, -0.016783496364951134, 0.008427126333117485, 0.028246086090803146, 0.008844591677188873, -0.0426238551735878, -0.01761842519044876, -0.023788413032889366, 0.02432616427540779, 0.005702992435544729, -0.011887130327522755, 0.028062118217349052, -0.058529965579509735, 0.016783496364951134, -0.005628698039799929, -0.008568639867007732, 0.04098229855298996, -0.00575252203270793, -0.044746555387973785, 0.009821034036576748, 0.008030888624489307, 0.011766844429075718, -0.028727231547236443, 0.006276121828705072, 0.03288772702217102, 0.030849933624267578, -0.00728794327005744, 0.014972124248743057, -0.02029303088784218, -0.06390748172998428, -0.001719388528726995, -0.046642836183309555, -0.012000340968370438, 0.027736637741327286, 0.042142707854509354, -0.006141684018075466, 0.03181222453713417, 0.003718266263604164, -0.039057716727256775, 0.005971868056803942, 0.026802649721503258, 0.024863915517926216, -0.0018432128708809614, 0.013684351928532124, 0.025387514382600784, 0.04941650107502937, 0.020887386053800583, -0.03653877601027489, 0.005023727659136057, -0.033114150166511536, -0.05521855130791664, 0.003972990438342094, 0.029208378866314888, -0.03017066977918148, -0.030312182381749153, 0.034444376826286316, -0.037019919604063034, -0.022373277693986893, -0.017448609694838524, 0.056520476937294006, 0.022557245567440987, -0.0022606775164604187, 0.044180501252412796, 0.005720681510865688, -0.017335398122668266, -0.058473359793424606, -0.003258347511291504, 0.0290385615080595, 0.0070332190953195095, -0.07681350409984589, -0.03554818034172058, -0.010387088172137737, 0.0244393739849329, 0.017887301743030548, -0.024297861382365227, -0.017660880461335182, 0.025840356945991516, -0.022359127178788185, 0.03554818034172058, 0.014646642841398716, 0.06951141357421875, -0.0034564663656055927, 0.011802222579717636, 0.0005505757872015238, -0.03622744604945183, -0.005083871074020863, 0.04579375684261322, -0.011957887560129166, -0.005451805889606476, 0.0154957240447402, 0.01201449241489172, 0.023222358897328377, 0.010953141376376152, 0.02289687842130661, -0.027793243527412415, -0.008306840434670448, -0.0153966648504138, -0.012693757191300392, -0.013556989841163158, -0.019175073131918907, -0.06079418212175369, -0.002605616580694914, -0.030595209449529648, -0.05224676802754402, -0.021297775208950043, 0.039821889251470566, -0.031331080943346024, -0.0017644959734752774, -0.00023814062296878546, 0.019401496276259422, 0.0038456283509731293, 0.0019033560529351234, -0.05173731967806816, 0.03427455946803093, -0.08202119916677475, -0.016726890578866005, 0.023477083072066307, -0.0035077647771686316, 0.05054860934615135, -0.0342179536819458, -0.028925351798534393, -0.026760194450616837, 0.002251832978799939, -0.03198204189538956, -0.030255578458309174, 0.014151345938444138, 0.014717400074005127, 0.033114150166511536, 0.03002915531396866, -0.0234629325568676, 0.025628088042140007, -0.03430286422371864, 0.005961254704743624, 0.024099742993712425, -0.012339973822236061, -0.0036121311131864786, -0.010776249691843987, 0.003866855287924409, 0.05677520111203194, -0.020420392975211143, 0.07483232021331787, 0.006679435260593891, 0.016868405044078827, 0.018467506393790245, -0.002393346279859543, 0.0032194312661886215, 0.01247441116720438, 0.035265155136585236, 0.040953993797302246, -0.04978443682193756, 0.006035549100488424, 0.010712568648159504, -0.0516241118311882, 0.0011241475585848093, -0.03750106692314148, -0.05046369880437851, 0.06594527512788773, 0.010663039050996304, 0.017024070024490356, -0.026547925546765327, -0.03826523944735527, 0.02526015229523182, 0.03068011812865734, 0.05677520111203194, -0.0014452062314376235, 0.035321760922670364, 0.014271632768213749, 0.0013505690731108189, 0.04205780103802681, 0.004146344494074583, -0.004910517018288374, -0.01587780937552452, 0.011780995875597, -0.08077587932348251, -0.038718082010746, -0.0012559319147840142, 0.04395408183336258, 0.006973075680434704, -0.016882555559277534, 0.04174647107720375, -0.012948481366038322, 0.031529199331998825, -0.006835100241005421, -0.014052286744117737, 0.00019336487457621843, -0.050378791987895966, -0.025387514382600784, -0.04599187523126602, -0.010125287808477879, 0.0016468629473820329, -0.011724390089511871, 0.006453013978898525, 0.002122701844200492, -0.019811883568763733, -0.0430200919508934, 0.04460504278540611, 0.014901367016136646, -0.003012467874214053, 0.05538836866617203, -0.02197704091668129, -0.012644227594137192, 0.03948225453495979, 0.015863658860325813, 0.016259895637631416, -0.004086201079189777, 0.004581498447805643, -0.013146600686013699, -0.0022589087020605803, -0.016302350908517838, -0.02408559061586857, -0.005009576678276062, -0.01583535596728325, -0.017292944714426994, 0.039114318788051605, 0.04627490043640137, 0.05117126554250717, -0.04528430849313736, -0.03416134789586067, 0.03574629873037338, 0.011639482341706753, -0.0015964487101882696, 0.029831036925315857, -0.010854082182049751, 0.008696001954376698, 0.0024181113112717867, 0.029632918536663055, -0.021396834403276443, 0.003132754238322377, -0.00814409926533699, -0.024651644751429558, -0.035434968769550323, 0.005971868056803942, 0.022868575528264046, -0.03438777104020119, 0.007896451279520988, -0.002400422003120184, -0.01751936599612236, -0.03053860552608967, 0.01972697675228119, -0.025387514382600784, -0.02637810818850994, 0.04381256550550461, -0.012205535545945168, 0.0058374302461743355, -0.0307933297008276, 0.004432909190654755, 0.07788901031017303, 0.019684521481394768, -0.018099570646882057, -0.04791645705699921, -0.0003573214926291257, 0.0598318912088871, 0.007754937745630741, -0.043416328728199005, 0.01849580928683281, -0.0001251509675057605, -0.018863745033740997, 0.04205780103802681, -0.013330567628145218, 0.0012603543000295758, -0.005582706071436405, -0.03011406399309635, -0.008653547614812851, 0.03390662372112274, 0.0071464297361671925, -0.028656475245952606, 0.02448182925581932, -0.04324651509523392, -0.025472423061728477, 0.025996021926403046, -0.01705237105488777, 0.007220724131911993, 0.0036404337733983994, -0.04836929962038994, 0.0035572946071624756, -0.0009348733001388609, -0.052529796957969666, -0.027750790119171143, 0.03934074193239212, 0.03919922932982445, -0.014292859472334385, -0.05937904864549637, -0.017476912587881088, -0.012594697996973991, -0.004733625333756208, 0.02377426065504551, -0.007945980876684189, -0.04483146592974663, -0.024467676877975464, 0.039991702884435654, -0.013075843453407288, 0.03515194356441498, 0.044237107038497925, -0.0010118212085217237, 0.04783155024051666, 0.049558013677597046, 0.0044187577441334724, 0.010854082182049751, 0.0043055471032857895, 0.0024039598647505045, 0.015113637782633305, -0.03914262354373932, 0.027694184333086014, -0.018679777160286903, 0.04599187523126602, 0.08411560207605362, -0.02156665176153183, -0.04058606177568436, 0.01221968699246645, 0.004885752219706774, -0.027892302721738815, -0.015141940675675869, 0.025500725954771042, -0.006269046105444431, 0.02074587345123291, 0.02330726757645607, 0.003934074193239212, 0.01609008014202118, -0.01229044422507286, -0.023958228528499603, -0.04585036262869835, 0.023745957762002945, 0.02623659558594227, -2.6699610316427425e-05, -0.04483146592974663, -0.01293432991951704, 0.006983689032495022, -0.007733710575848818, 0.015127789229154587, 0.04296348616480827, 0.008519110269844532, 0.030453696846961975, -0.016174988821148872, 0.0016521696234121919, 0.02176477015018463, 0.020873235538601875, 0.007620499935001135, -0.04913347214460373, 0.0259111151099205, 0.0024517206475138664, 0.030623512342572212, -0.0037430310621857643, -0.02530260570347309, 0.057199738919734955, -0.010280952788889408, 0.014016908593475819, 0.015481572598218918, -0.04103890433907509, -0.03908601775765419, -0.005579167976975441, -0.037104830145835876, 0.022826120257377625, -0.0012868880294263363, 0.019557159394025803, 0.004238327965140343, 0.019458100199699402, 0.025033731013536453, -0.010337558574974537, 0.019896792247891426, 0.0054128896445035934, 0.024779006838798523, -0.009000255726277828, -0.004280782304704189, -0.025076184421777725, -0.036340657621622086, -0.009608764201402664, -0.01659952849149704, -0.02115626260638237, -0.03447267785668373, -0.01217015739530325, 0.048680629581213, 0.02837344817817211, 0.025698844343423843, -0.0070438324473798275, 0.028514962643384933, -0.03653877601027489, 0.032661307603120804, -0.0023243585601449013, -0.04616168886423111, 0.0447748601436615, -0.020675117149949074, -0.07324736565351486, -0.0762474536895752, 0.02432616427540779, -0.018453355878591537, -0.024679947644472122, 0.039255835115909576, -0.005253687035292387, 0.0001232714857906103, 0.0009561002952978015, -0.024552585557103157, 0.00391992274671793, -0.032406583428382874, 0.004577960353344679, -0.03611423447728157, -0.02766588144004345, -0.013670200482010841, -0.045312609523534775, 0.055360063910484314, -0.010210196487605572, 0.07251149415969849, -0.03017066977918148, 0.0031911286059767008, -0.016259895637631416, 0.06305839866399765, -0.03902941197156906, -0.004411682020872831, -0.014689097180962563, -0.0005784362438134849, 0.014101816341280937, 0.011646557599306107, -0.03011406399309635, 0.027481913566589355, -0.025118639692664146, -0.01100974716246128, -0.005342133343219757, -0.022104403004050255, -0.03730294853448868, -0.07443608343601227, -0.030765026807785034, -0.027538519352674484, 0.049614619463682175, -0.015453269705176353, -0.012757438234984875, 0.03976528346538544, -0.05306754633784294, 0.018623171374201775, 0.017236338928341866, 0.02080247923731804, -0.05179392546415329, -0.04352954030036926, -0.0026463016401976347, 0.010231423191726208, 0.035831209272146225, 0.023137450218200684, 0.019755279645323753, -0.024014834314584732, -0.018410900607705116, 0.06102060526609421, -0.017024070024490356, 0.010351710021495819, -0.008611094206571579, -0.032661307603120804, -0.0243403147906065, -0.01400983240455389, -0.03498212620615959, -0.008533261716365814, 0.03574629873037338, -0.05165241286158562, 0.0748889222741127, 0.016741042956709862, -0.048029668629169464, 0.0009693672182038426, -0.010521525517106056, -0.023179905489087105, -0.008653547614812851, -0.04514279216527939, 0.010613509453833103, -0.01664198376238346, -0.009743201546370983, 0.035576485097408295, -0.0041109658777713776, -0.0075921970419585705, 0.01875053346157074, -0.004832684528082609, 0.005565016996115446, 0.045623939484357834, 0.021991191431879997, 0.004309084732085466, -0.03622744604945183, 0.034614190459251404, 0.004712398163974285, -0.0072667161002755165, -0.017505215480923653, -0.027595125138759613, 0.03093484230339527, 0.03353869169950485, -0.013358870521187782, -0.008519110269844532, -0.0059152627363801, -0.032859425991773605, 0.06758683174848557, 0.02027887850999832, -0.0016857790760695934, -0.01359944324940443, -0.012615924701094627, 0.0032778054010123014, -0.0073870024643838406, -0.0012506252387538552, -0.0013744494644924998, -0.022783666849136353, 0.028062118217349052, -0.029264982789754868, -0.03305754438042641, 0.018863745033740997, 0.034812312573194504, 0.04118041694164276, 0.01063473615795374, 0.024878066033124924, 0.018297690898180008, -0.0008844591211527586, -0.03775579109787941, -0.009339888580143452, -0.007868148386478424, -0.006233667954802513, 0.04304839298129082, -0.022514792159199715, 0.022146856412291527, 0.03017066977918148, -0.0190618634223938, -0.04452013596892357, -0.008059191517531872, 0.009368191473186016, 0.04409559443593025, 0.011993265710771084, -0.03447267785668373, -0.006453013978898525, 0.020094910636544228, -0.004726549610495567, -0.0537751130759716, -0.011229093186557293, -0.02674604393541813, 0.030906539410352707, -0.0006885514012537897, 0.0003878353163599968, -0.012927254661917686, -0.003385709598660469, -0.034246258437633514, -0.0719454437494278, -0.020363787189126015, -0.04055775701999664, -0.005214770790189505, -0.013627746142446995, -0.023038391023874283, 0.011222016997635365, 0.022161006927490234, 0.01034463383257389, 0.02233082428574562, 0.003398091997951269, -0.0008884391863830388, 0.01024557463824749, 0.00855448842048645, -0.029576312750577927, -0.0002883336856029928, -0.01777409017086029, -0.042425736784935, 0.010648887604475021, -0.03554818034172058, 0.0012099400628358126, 0.05819033458828926, -0.00875968299806118, 0.016557075083255768, -0.039878491312265396, 0.012941406108438969, 0.019302435219287872, -0.01121494174003601, 0.020406240597367287, 0.005126324947923422, 0.0307933297008276, -0.01029510423541069, -0.0023756572045385838, 0.005936489440500736, -0.0059471032582223415, -0.015269302763044834, -0.000814586877822876, 0.022274218499660492, -0.006021397653967142, 0.0029116393998265266, -0.008674775250256062, -0.0028391138184815645, -0.020660964772105217, 0.010981444269418716, -0.04964292049407959, -0.012531016953289509, -0.023745957762002945, -0.007726634852588177, -0.017406156286597252, -0.02516109310090542, 0.01034463383257389, -0.020406240597367287, 0.01849580928683281, -0.004089739173650742, 0.0066086784936487675, 0.008858742192387581, 0.016811799257993698, 0.06390748172998428, -0.0033644824288785458, -0.006548535544425249, -0.00010751706577138975, -0.06039794534444809, 0.030623512342572212, -0.01593441516160965, -0.004832684528082609, 0.00043316386290825903, -0.03251979127526283, -0.0132951894775033, 0.02540166676044464, -0.004868063144385815, -0.010535676963627338, -0.007486062124371529, 0.001538958866149187, 0.007655878085643053, -0.015764599665999413, -0.0005134285311214626, -0.004358614794909954, 0.011462590657174587, -0.010953141376376152, 0.005465957336127758, 0.033623598515987396, 0.00609569251537323, 0.00690231891348958, 0.04890705272555351, -0.027071524411439896, -0.03251979127526283, -0.01175976824015379, -0.0132456598803401, 0.07381342351436615, 0.04052945598959923, -0.004008368588984013, -0.04466164857149124, 0.0010427773231640458, -0.016047626733779907, -0.02309499680995941, -0.04268046095967293, -0.011059276759624481, 0.03484061360359192, -0.0023385100066661835, -0.004910517018288374, -0.038293540477752686, -0.0406709685921669, 0.02197704091668129, -0.0062938109040260315, 0.013698503375053406, 0.016557075083255768, 0.004072049632668495, -0.017349550500512123, -0.03379341587424278, -0.008802137337625027, 0.01890619844198227, -0.007372851483523846, 0.030453696846961975, 0.004514279309660196, -0.010181893594563007, -0.0059152627363801, -0.030057458207011223, -0.024142196401953697, -0.028345145285129547, -0.015637237578630447, 0.049869343638420105, -0.04483146592974663, -0.029264982789754868, 0.0032778054010123014, -0.019146770238876343, 0.014328237622976303, 0.0236610509455204, -0.00994132086634636, 0.00793890468776226, -0.04236913099884987, 0.022458186373114586, -0.02043454349040985, -0.04709567874670029, 0.004298471380025148, 0.021609105169773102, -0.01024557463824749, -0.01665613427758217, 0.00253485981374979, -0.028755534440279007, 0.027368703857064247, -0.0465296246111393, -0.018722230568528175, 0.007457759231328964, -0.012247989885509014, -0.0016159068327397108, 0.006973075680434704, 0.016274048015475273, 0.016726890578866005, 0.04324651509523392, 0.018014663830399513, 0.03175561875104904, 0.013769259676337242, -0.036453865468502045, 0.0008008777513168752, -0.057086531072854996, -0.0171089768409729, -0.0029894718900322914, -0.024156346917152405, -0.024425223469734192, -0.000724372046533972, -0.01843920350074768, 0.05459589138627052, 0.01088946033269167, 0.00983518548309803, -0.005006038583815098, 0.008087494410574436, 0.0019228141754865646, -0.0036404337733983994, 0.028868746012449265, 0.013012162409722805, 0.025373363867402077, 0.007896451279520988, -0.011059276759624481, -0.07432287186384201, -0.029378194361925125, -0.028302691876888275, -0.0016327115008607507, 0.02735455147922039, -0.0026834490709006786, -0.010875309817492962, 0.01086115837097168, 0.007620499935001135, -0.004493052139878273, -0.04135023429989815, -0.015212696976959705, -0.02915177308022976, -0.012920178472995758, -0.06085078790783882, 0.003306108294054866, -0.037019919604063034, 0.01910431683063507, 0.03251979127526283, -0.00860401801764965, -0.006888167466968298, -0.002625074703246355, 0.0037607201375067234, 0.0243403147906065, 0.022882726043462753, 0.02582620643079281, 0.0037076526787132025, -0.0027294408064335585, -0.012842346914112568, 0.005706530064344406, -0.01142013631761074, -0.006205365061759949, -0.01350038405507803, -0.07330397516489029, 0.02084493264555931, -0.009042710065841675, -0.004769003484398127, -0.011363530531525612, -0.030453696846961975, -0.015764599665999413, 0.01757597178220749, -0.02064681425690651, -0.06294518709182739, 0.002448182785883546, 0.0064954678528010845, 0.0011029205052182078, 0.02019396983087063, -0.02217515930533409, 0.0055473274551332, 0.04743531346321106, -0.04276536777615547, -0.014618339948356152, 0.01567969098687172, 0.013797562569379807, 0.018042966723442078, -0.021651558578014374, 0.01075502298772335, -0.021651558578014374, 0.021594954654574394, -0.008462504483759403, -0.03334056958556175, -0.036708589643239975, 0.020632661879062653, -0.004397530574351549, -0.020165668800473213, -0.006682973355054855, 0.009113466367125511, 0.016981614753603935, -0.015382513403892517, 0.036765195429325104, 0.02940649725496769, 0.010160665959119797, 0.03857656940817833, -0.006679435260593891, 0.012509790249168873, 0.001525691943243146, 0.025642238557338715, -0.0012957325670868158, -0.024255406111478806, -0.024396920576691628, -0.020094910636544228, 0.0426238551735878, -0.029774431139230728, -0.024198802188038826, -0.01150504406541586, 0.04146344214677811, -0.017080673947930336, 0.03144429251551628, -0.019543008878827095, 0.010075758211314678, 0.03271791338920593, -0.00045107415644451976, 0.031132960692048073, -0.019656220450997353, 0.03257639706134796, 0.0048539116978645325, -0.04514279216527939, 0.004432909190654755, 0.006201827432960272, -0.00993424467742443, -0.03433116525411606, 0.011844676919281483, -0.02848665975034237, 0.022684607654809952, -0.03846335783600807, -0.0005063528660684824, -0.00799551047384739, 0.004146344494074583, 0.0017105439910665154, -0.010967292822897434, 0.002632150426506996, -0.023604445159435272, 0.003983603790402412, 0.00135145359672606, -0.022359127178788185, 0.000612487958278507, -0.006307962350547314, -0.01976943016052246, -0.002287211362272501, 0.020703420042991638, -0.006566224619746208, -0.029378194361925125, 0.00522538460791111, -0.008257310837507248, 0.007252564653754234, 0.031132960692048073, -0.007199497427791357, 0.004068512003868818, 0.03724634274840355, -0.007408229634165764, -0.0006491930107586086, 0.01634480431675911, 0.012325822375714779, -0.005674689542502165, 0.0007349855150096118, 0.014873065054416656, -0.038236938416957855, 0.0008654432604089379, -0.0034175501205027103, 0.01040123961865902, -0.015764599665999413, -0.02833099476993084, 0.011427211575210094, -0.017434459179639816, -0.030849933624267578, -0.035321760922670364, 0.03560478612780571, -0.01473155152052641, -0.004507203586399555, 0.03277451917529106, 0.017377853393554688, -0.008731380105018616, 0.026038477197289467, -0.035265155136585236, 0.03540666773915291, 0.04568054527044296, -0.04245403781533241, 0.03840675204992294, -0.008313915692269802, -0.010471995919942856, 0.01992509514093399, 0.007227799855172634, -0.021425137296319008, 0.003972990438342094, -0.027283795177936554, 0.030708421021699905, -0.004804382100701332, -0.02741115726530552, 0.00041215794044546783, 0.03554818034172058, 0.011752692982554436, -0.001025088131427765, 0.019231678918004036, -9.93358189589344e-05, -0.028953654691576958, -0.008328067138791084, 0.0063857948407530785, -0.01451928075402975, 0.014901367016136646, 0.023901622742414474, -0.03356699272990227, -0.015849508345127106, 0.04856741800904274, 0.02192043513059616, 0.0426238551735878, -0.005678227636963129, 0.0022642153780907393, 0.002503019291907549, -0.009608764201402664, 0.003735955338925123, 0.0008048578165471554, 0.03201034292578697, 0.009431872516870499, -0.025628088042140007, 0.008172402158379555, 0.00040132334106601775, -0.05074672773480415, 0.026010174304246902, -0.01756182126700878, -0.0019228141754865646, 0.0259111151099205, 0.010882385075092316, 0.006177062634378672, 0.02254309505224228, 0.011016822420060635, -0.006092154420912266, -0.03953886032104492, -0.005596857517957687, -0.016981614753603935, -0.005823278799653053, -0.028246086090803146, 2.1157920855330303e-05, 0.01396030280739069, 0.03294433280825615, 0.019288284704089165, -0.03724634274840355, 0.02259969897568226, 0.01628819853067398, 0.02299593761563301, 0.03704822435975075, -0.015057031996548176, 0.02320820651948452, 0.01732124760746956, 0.0430200919508934, -0.04969952628016472, 0.05490722134709358, 0.05485061556100845, 0.014816459268331528, -0.005055568180978298, -0.006559148896485567, 0.008002585731446743, 0.0338217169046402, 0.004015444312244654, -0.0036227444652467966, -0.0006253126193769276, 0.012927254661917686, 0.04135023429989815, -0.02776494063436985, 0.026646984741091728, 0.02483561262488365, 0.01054982841014862, -0.028415903449058533, -0.02524600178003311, 0.03571799769997597, -0.011646557599306107, -0.003930536564439535, 0.020406240597367287, -0.005964792333543301, -0.001544265658594668, -0.0013346488121896982, 0.026717741042375565, -0.012707908637821674, -0.03509533777832985, -0.017844846472144127, -0.03314245119690895, 0.005441192537546158, 0.009276207536458969, 0.01150504406541586, 0.0035926729906350374, -0.04406728968024254, -0.013677275739610195, -0.02582620643079281, 0.01783069595694542, -0.02340632677078247, -0.013210281729698181, -0.006753729656338692, 0.008816288784146309, 0.016557075083255768, 0.004401068668812513, 0.02792060561478138, -0.0041852607391774654, 0.01777409017086029, 0.02643471397459507, 0.018637321889400482, 0.0009242597734555602, 0.008122872561216354, 0.011427211575210094, -0.0023845017421990633, -0.012417806312441826, 0.000410389038734138, 0.015623086132109165, 0.019896792247891426, -0.00664759473875165, -0.014618339948356152, -0.0011674860725179315, -0.013663124293088913, 0.010542753152549267, 0.020307181403040886, 0.02561393566429615, -0.02516109310090542, -0.026165839284658432, -4.0933875425253063e-05, 0.029802734032273293, 0.021849678829312325, 0.0026356882881373167, 0.0039022336713969707, -0.002117395168170333, -0.004142806399613619, 0.0018184479558840394, 0.004807919729501009, 0.01931658759713173, 0.02023642510175705, 0.00791060272604227, 0.024312011897563934, -0.010082834400236607, -0.019811883568763733, 0.0035148405004292727, -0.006516695022583008, -0.015368361957371235, 0.0005059106042608619, -0.012778665870428085, 0.007372851483523846, 0.018920348957180977, 0.019656220450997353, 0.004684095736593008, -0.023830866441130638, 0.0031893595587462187, 0.011738541536033154, 0.04435031861066818, -0.03215185925364494, 0.03189713507890701, 0.012920178472995758, 0.003948225639760494, -0.011972039006650448, -0.00022620042727794498, -0.004284319933503866, -0.0054022762924432755, -0.01957131177186966, -0.03467079624533653, -0.030057458207011223, -0.010111136361956596, 0.017943907529115677, -0.01567969098687172, 0.01715143211185932, -0.016811799257993698, -0.02428370900452137, 0.020066607743501663, -0.00460980087518692, 0.022967634722590446, -0.03068011812865734, -0.03410474210977554, -0.012877725064754486, 0.023760110139846802, 0.0623791329562664, 0.003143367823213339, 3.6207544326316565e-05, -0.033368874341249466, 0.0003478135622572154, -0.009247904643416405, -0.02868477813899517, -0.05029388517141342, -0.016061777248978615, -0.009983774274587631, 0.053152456879615784, -0.016783496364951134, -0.028543265536427498, 0.017491063103079796, -0.002147466642782092, -0.00038297081482596695, -0.013422551564872265, 0.06436032056808472, -0.008342218585312366, -0.03781239688396454, -0.018920348957180977, -0.015707993879914284, 0.0025808517821133137, 0.005136938765645027, 0.00825023464858532, -0.019840186461806297, 0.0037501067854464054, -0.037274643778800964, -0.01034463383257389, 0.015566480346024036, -0.006976613774895668, 0.02561393566429615, 0.004868063144385815, -0.026958314701914787, 0.03407644107937813, -0.012325822375714779, 0.0005134285311214626, 0.039114318788051605, -0.015439118258655071, 0.00011265798093518242, 0.019344890490174294, 0.013210281729698181, 0.032038647681474686, 0.007022605277597904, 0.016472166404128075, -0.006304424721747637, -0.012573471292853355, 0.008957802318036556, 0.014384843409061432, 0.09515365213155746, -0.011306925676763058, 0.0009702516836114228, -0.025896962732076645, -0.028981955721974373, -0.0025065571535378695, -0.0037854851689189672, -0.014689097180962563, -0.031132960692048073, 0.022500639781355858, -0.004875138867646456, 0.03673689439892769, -0.0265903789550066, 0.05646387115120888, -0.010486147366464138, -0.0408690869808197, -0.006315038073807955, 0.016429712995886803, -0.0073870024643838406, -0.007960132323205471, -0.006003708578646183, -0.0132456598803401, -0.02391577512025833, -0.036850105971097946, -0.0428219735622406, -0.0268875565379858, -0.020151516422629356, 0.005030803382396698, -0.012601773254573345, 0.0051864683628082275, 0.02475070394575596, 0.0017406155820935965, -0.0016194446943700314, -0.006329189520329237, 0.013479157350957394, 0.003923460841178894, -0.019387343898415565, -0.015410815365612507, -0.0009083395125344396, 0.0047407010570168495, 0.006888167466968298, 0.009658293798565865, 0.02770833484828472, -0.036029327660799026, 0.021736467257142067, -0.009757352992892265, 0.012828195467591286, -0.041406840085983276, -0.0005828585708513856, 0.03452928364276886, 0.00018827924213837832, 0.0385199636220932, -0.00999085046350956, 0.0264913197606802, -0.025628088042140007, 0.025500725954771042, -0.040897391736507416, -0.021241169422864914, 0.014101816341280937, -0.009410644881427288, -0.011292774230241776, 0.00685278931632638, 0.016925008967518806, 0.006654670462012291, 0.03724634274840355, 0.010776249691843987, 0.022528942674398422, 0.04440692439675331, 0.014604189433157444, 0.02381671592593193, -0.010436617769300938, 0.03302924335002899, -0.004234790336340666, -0.006523770280182362, 0.006003708578646183, -0.013472081162035465, -0.025175243616104126, -0.030651815235614777, -0.021849678829312325, -0.054114747792482376, -0.019896792247891426, 0.026915859431028366, 0.04709567874670029, 0.005098022520542145, 0.010514450259506702, -0.01843920350074768, -0.0027170584071427584, -0.0078044673427939415, 0.009155920706689358, -0.005303217098116875, 0.005002500955015421, 0.03334056958556175, 0.0095804613083601, 0.0032300446182489395, -0.008533261716365814, -0.010847006924450397, 0.002830269280821085, 0.015283453278243542, 0.02008076012134552, -0.0023261276073753834, 0.013238584622740746, -0.03314245119690895, -0.001224975916557014, -0.008696001954376698, 0.01982603594660759, -0.054680801928043365, -0.0038173256907612085, 0.0015619548503309488, 0.009007331915199757, -0.0029487868305295706, -0.0032530406024307013, 0.014285784214735031, 0.012757438234984875, -0.04171816632151604, 0.031217869371175766, -0.02377426065504551, -0.026873406022787094, -0.008080418221652508, -0.043218210339546204, -0.015736296772956848, 0.03600102290511131, -0.036453865468502045, 0.00481499545276165, 0.012665454298257828, 0.02535921148955822, 0.024906368926167488, 0.017533518373966217, 0.0449729785323143, 0.019302435219287872, -0.00043758616084232926, 0.012056946754455566, -0.0004833569109905511, 0.035774603486061096, -0.007220724131911993, 0.016118383035063744, 0.031076354905962944, -0.0009127618395723403, -0.022868575528264046, 0.01664198376238346, 0.014957972802221775, 0.030963145196437836, -0.009948396123945713, 0.03735955432057381, 0.013479157350957394, 0.006955386605113745, -0.001393907587043941, 0.02694416232407093, -0.025543179363012314, 0.0009083395125344396, -0.02402898482978344, -0.008328067138791084, -0.02915177308022976, 0.004914055112749338, 0.0004895481397397816, 0.028514962643384933, 0.06096399948000908, -0.02342047728598118, -0.010330482386052608, 0.019783582538366318, -0.01421502698212862, 0.00687755411490798, -0.024000681936740875, 0.013924924656748772, 0.0036333580501377583, 0.014618339948356152, -0.0031044515781104565, -0.011441363021731377, -0.016571225598454475, 0.009304510429501534, 0.0019033560529351234, -0.002902794862166047, -0.007040294818580151, 0.007227799855172634, 0.005550865549594164, -0.03704822435975075, 0.013939076103270054, -0.029236679896712303, 0.060567762702703476, -0.0076983324252069, -0.011915433220565319, -0.027481913566589355, -0.011483817361295223, 0.007323321420699358, -0.01961376518011093, 0.029236679896712303, 0.013769259676337242, -0.006803259719163179, -0.024609191343188286, -0.010804552584886551, -0.05301094055175781, 0.023392174392938614, 0.006407022010535002, -0.0025596246123313904, 0.02878383733332157, -0.01258054655045271, -0.028713081032037735, -0.029746130108833313, -0.02146759256720543, 0.022090250626206398, -0.055614788085222244, -0.01437069196254015, -0.014774004928767681, 0.023392174392938614, 0.03294433280825615, -0.0009242597734555602, 0.014200875535607338, 0.01783069595694542, 0.013875395059585571, -0.04650132358074188, -0.015368361957371235, 0.016868405044078827, 0.0011356455506756902, 0.012382428161799908, 0.041576653718948364, 0.02940649725496769, 0.02197704091668129, -0.043359722942113876, -0.012297519482672215, -0.03353869169950485, -0.00387393101118505, -0.0039057715330272913, -0.019047711044549942, -0.0019033560529351234, 0.004139268770813942, -0.02797721140086651, -0.020505299791693687, -4.950207221554592e-05, 0.003518378362059593, -0.031161263585090637, -0.027184735983610153, 0.048737235367298126, 0.012361200526356697, 0.006449475884437561, -0.009842260740697384, 0.013309340924024582, 0.018892046064138412, -0.003951763268560171, -0.0363689586520195, -0.016868405044078827, 0.017377853393554688, 0.019854338839650154, -0.019528858363628387, 0.017406156286597252, -0.010330482386052608, -0.027651730924844742, 0.03846335783600807, 0.015410815365612507, 0.0359727218747139, -0.017547668889164925, 0.01859486848115921, -0.011568725109100342, -0.021382683888077736, 0.038095422089099884, -0.0038350147660821676, -0.0020714031998068094, -0.0024269558489322662, 0.018170328810811043, 0.004358614794909954, -0.010443693026900291, 0.003148674499243498, 0.02295348234474659, 0.01628819853067398, 0.02463749423623085, 0.02524600178003311, 0.007036756724119186, 0.0076912567019462585, -0.011788071133196354, -0.01247441116720438, 0.008243159390985966, 0.00749313784763217, -0.011023898608982563, -0.01976943016052246, -0.0002617998979985714, -0.01890619844198227, -0.02279781922698021, 0.03251979127526283, -0.008158250711858273, -0.0023438166826963425, -0.006233667954802513, -0.01920337602496147, 0.0005010460736230016, 0.03750106692314148, -0.014045210555195808, -0.01894865185022354, -0.015042880550026894, 0.004188798367977142, -0.0017211574595421553, 0.04590696468949318, -0.03104805387556553, -0.013097071088850498, -0.0171089768409729, -0.00248533021658659, 0.004061436280608177, 0.015538177452981472, -0.0024587963707745075, 0.024934671819210052, 0.027524368837475777, -0.020222272723913193, 0.015764599665999413, -0.006219516508281231, 0.0406709685921669, -0.0039022336713969707, -0.03002915531396866, 0.04559563845396042, 0.009262056089937687, 0.034019835293293, -0.010875309817492962, 0.062322527170181274, 0.018453355878591537, 0.009042710065841675, 0.00029894718318246305, 0.005133400671184063, 0.003824401181191206, 0.028444206342101097, 0.008512035012245178, 0.003789022797718644, -0.0013143062824383378, -0.016373107209801674, -0.01880713924765587, 0.0030354636255651712, 0.006046162452548742, 0.010026228614151478, -0.0006102768238633871, 0.002888643415644765, -0.05623744800686836, -0.006233667954802513, 0.023321418091654778, -0.0381237268447876, 0.029887642711400986, 0.00641763536259532, 0.0153966648504138, 0.014299934729933739, 0.006502543576061726, 0.016118383035063744, 0.027496065944433212, -0.001478815684095025, -0.011356455273926258, -0.014186724089086056, 0.006325651425868273, -0.014278708025813103, -0.016472166404128075, -0.02017981931567192, -0.02074587345123291, -0.026165839284658432, -0.0287413839250803, 0.0013275730889290571, -0.036453865468502045, -0.003951763268560171, -0.013832940720021725, -0.0008167980122379959, 0.008724304847419262, 0.008179478347301483, -0.01534005906432867, -0.023194056004285812, 0.014094740152359009, 0.029321588575839996, 0.014349465258419514, -0.02741115726530552, -0.05009576305747032, -0.04384087026119232, -0.03679350018501282, -0.007234875578433275, 0.027991361916065216, 0.02182137593626976, 0.002823193557560444, 0.03948225453495979, -0.04330311715602875, 0.004758390132337809, -0.0003624071250669658, 0.027425307780504227, -0.009467250667512417, 0.014151345938444138, -0.0006226592231541872, -0.037982214242219925, -0.001635364955291152, 0.01217015739530325, 0.020873235538601875, 0.005327981896698475, 0.035774603486061096, 0.0363689586520195, -0.0034157810732722282, 0.05219016224145889, -0.00901440717279911, 0.007188883610069752, 0.022826120257377625, -0.03951055929064751, -0.0035042271483689547, -0.0005107751348987222, 0.02741115726530552]]\n"
     ]
    }
   ],
   "source": [
    "from cheat_code.common_components.vectorizers import Vectorizer\n",
    "\n",
    "example_text_splits = [\"Mary had a\", \"little lamb\"]\n",
    "vectorizer = Vectorizer()\n",
    "embeddings_of_example_splits = vectorizer.vectorize_text_splits(example_text_splits)\n",
    "\n",
    "rows = len(embeddings_of_example_splits)\n",
    "columns = len(embeddings_of_example_splits[0])\n",
    "\n",
    "print(f\"Dimensions: {rows}x{columns}\")\n",
    "print(embeddings_of_example_splits[0:10])"
   ]
  },
  {
   "cell_type": "markdown",
   "metadata": {},
   "source": [
    "Implement `vectorize_text_splits()` in `workshop_code/common_components/vectorizers.py` by referencing the [OpenAI embedding API's documentation](https://platform.openai.com/docs/api-reference/embeddings)."
   ]
  },
  {
   "cell_type": "code",
   "execution_count": 5,
   "metadata": {},
   "outputs": [],
   "source": [
    "from workshop_code.common_components.vectorizers import Vectorizer\n",
    "\n",
    "example_text_splits = [\"Mary had a\", \"little lamb\"]\n",
    "vectorizer = Vectorizer()\n",
    "embeddings_of_example_splits = vectorizer.vectorize_text_splits(example_text_splits)\n",
    "\n",
    "rows = len(embeddings_of_example_splits)\n",
    "columns = len(embeddings_of_example_splits[0])\n",
    "\n",
    "# print(f\"Dimensions: {rows}x{columns}\")\n",
    "# print(embeddings_of_example_splits[0:10])"
   ]
  },
  {
   "cell_type": "markdown",
   "metadata": {},
   "source": [
    "## Vector Database: wcs_client_adapter.py\n",
    "In production settings, you're likely to store your vectors in a database. In this tutorial, we are using Weaviate, which is abstracted away by `wcs_client_adapter.py`. However, there are many options available. Pinecone has been the most popular startup vector database provider, but popular existing players such as Postgres also offer vector storage.\n",
    "\n",
    "### Vector DB Task #1: Understand the indexer code\n",
    "Open `indexers.py` in `./workshop_code/`. Look over how the `WcsClientAdapter` is used, and look at how its methods are implemented. If something doesn't make sense, ask a question.\n",
    "\n",
    "## The Complete Indexer: indexer.py\n",
    "### Indexer Task: test that your indexer works\n",
    "Your indexer should give output like the cheat_code version below:"
   ]
  },
  {
   "cell_type": "code",
   "execution_count": 13,
   "metadata": {},
   "outputs": [
    {
     "name": "stdout",
     "output_type": "stream",
     "text": [
      "Number of text chunks in Weaviate: 35\n"
     ]
    }
   ],
   "source": [
    "from cheat_code.indexers import NaiveIndexer\n",
    "from cheat_code.common_components.vectorizers import Vectorizer\n",
    "\n",
    "rag_survey_paper_uri = \"https://arxiv.org/html/2312.10997v5\"\n",
    "vectorizer = Vectorizer()\n",
    "indexer = NaiveIndexer(vectorizer)\n",
    "indexer.index(rag_survey_paper_uri)\n",
    "num_db_entries = indexer._wcs_client_adapter.count_entries()\n",
    "print(f\"Number of text chunks in Weaviate: {num_db_entries}\")"
   ]
  },
  {
   "cell_type": "markdown",
   "metadata": {},
   "source": [
    "Run your indexer below to see if it works the same way. If it doesn't, something is broken."
   ]
  },
  {
   "cell_type": "code",
   "execution_count": 5,
   "metadata": {},
   "outputs": [
    {
     "name": "stdout",
     "output_type": "stream",
     "text": [
      "Number of text chunks in Weaviate: 270\n"
     ]
    }
   ],
   "source": [
    "from workshop_code.indexers import NaiveIndexer\n",
    "from workshop_code.common_components.vectorizers import Vectorizer\n",
    "\n",
    "rag_survey_paper_uri = \"https://arxiv.org/html/2312.10997v5\"\n",
    "vectorizer = Vectorizer()\n",
    "indexer = NaiveIndexer(vectorizer)\n",
    "indexer.index(rag_survey_paper_uri)\n",
    "num_db_entries = indexer._wcs_client_adapter.count_entries()\n",
    "print(f\"Number of text chunks in Weaviate: {num_db_entries}\")"
   ]
  }
 ],
 "metadata": {
  "kernelspec": {
   "display_name": "venv",
   "language": "python",
   "name": "python3"
  },
  "language_info": {
   "codemirror_mode": {
    "name": "ipython",
    "version": 3
   },
   "file_extension": ".py",
   "mimetype": "text/x-python",
   "name": "python",
   "nbconvert_exporter": "python",
   "pygments_lexer": "ipython3",
   "version": "3.12.3"
  }
 },
 "nbformat": 4,
 "nbformat_minor": 2
}
